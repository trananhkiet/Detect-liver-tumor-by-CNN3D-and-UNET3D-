{
 "cells": [
  {
   "cell_type": "code",
   "execution_count": 0,
   "metadata": {
    "colab": {
     "base_uri": "https://localhost:8080/",
     "height": 306
    },
    "colab_type": "code",
    "executionInfo": {
     "elapsed": 5135,
     "status": "ok",
     "timestamp": 1576605581205,
     "user": {
      "displayName": "Kiệt Trần",
      "photoUrl": "",
      "userId": "02595592618101445197"
     },
     "user_tz": -420
    },
    "id": "CxZ0A6vI-rEb",
    "outputId": "587e1b52-5a1e-43fb-815e-9e6243bf7d41"
   },
   "outputs": [
    {
     "name": "stdout",
     "output_type": "stream",
     "text": [
      "Tue Dec 17 17:59:37 2019       \n",
      "+-----------------------------------------------------------------------------+\n",
      "| NVIDIA-SMI 440.44       Driver Version: 418.67       CUDA Version: 10.1     |\n",
      "|-------------------------------+----------------------+----------------------+\n",
      "| GPU  Name        Persistence-M| Bus-Id        Disp.A | Volatile Uncorr. ECC |\n",
      "| Fan  Temp  Perf  Pwr:Usage/Cap|         Memory-Usage | GPU-Util  Compute M. |\n",
      "|===============================+======================+======================|\n",
      "|   0  Tesla P100-PCIE...  Off  | 00000000:00:04.0 Off |                    0 |\n",
      "| N/A   47C    P0    32W / 250W |      0MiB / 16280MiB |      0%      Default |\n",
      "+-------------------------------+----------------------+----------------------+\n",
      "                                                                               \n",
      "+-----------------------------------------------------------------------------+\n",
      "| Processes:                                                       GPU Memory |\n",
      "|  GPU       PID   Type   Process name                             Usage      |\n",
      "|=============================================================================|\n",
      "|  No running processes found                                                 |\n",
      "+-----------------------------------------------------------------------------+\n"
     ]
    }
   ],
   "source": [
    "!nvidia-smi"
   ]
  },
  {
   "cell_type": "code",
   "execution_count": 0,
   "metadata": {
    "colab": {},
    "colab_type": "code",
    "id": "iDAN5srkoj0X"
   },
   "outputs": [],
   "source": [
    "from google.colab import drive\n",
    "drive.mount('/content/drive')"
   ]
  },
  {
   "cell_type": "code",
   "execution_count": 0,
   "metadata": {
    "colab": {
     "base_uri": "https://localhost:8080/",
     "height": 80
    },
    "colab_type": "code",
    "executionInfo": {
     "elapsed": 11863,
     "status": "ok",
     "timestamp": 1576605621847,
     "user": {
      "displayName": "Kiệt Trần",
      "photoUrl": "",
      "userId": "02595592618101445197"
     },
     "user_tz": -420
    },
    "id": "OIpZ3GLyoyY4",
    "outputId": "a61465fa-1cfd-4441-b919-f2c96fa65461"
   },
   "outputs": [
    {
     "data": {
      "text/html": [
       "<p style=\"color: red;\">\n",
       "The default version of TensorFlow in Colab will soon switch to TensorFlow 2.x.<br>\n",
       "We recommend you <a href=\"https://www.tensorflow.org/guide/migrate\" target=\"_blank\">upgrade</a> now \n",
       "or ensure your notebook will continue to use TensorFlow 1.x via the <code>%tensorflow_version 1.x</code> magic:\n",
       "<a href=\"https://colab.research.google.com/notebooks/tensorflow_version.ipynb\" target=\"_blank\">more info</a>.</p>\n"
      ],
      "text/plain": [
       "<IPython.core.display.HTML object>"
      ]
     },
     "metadata": {
      "tags": []
     },
     "output_type": "display_data"
    },
    {
     "name": "stderr",
     "output_type": "stream",
     "text": [
      "Using TensorFlow backend.\n"
     ]
    }
   ],
   "source": [
    "import sys\n",
    "sys.path.append('/content/drive/My Drive/Luan Van 2019/Tumor/model/src')\n",
    "from util.npy_generator import *\n",
    "from util.metrics import *"
   ]
  },
  {
   "cell_type": "code",
   "execution_count": 0,
   "metadata": {
    "colab": {},
    "colab_type": "code",
    "id": "PEd_jSYKozhO"
   },
   "outputs": [],
   "source": [
    "from tensorflow.keras.callbacks import ModelCheckpoint, ReduceLROnPlateau, EarlyStopping, CSVLogger, TensorBoard\n",
    "from tensorflow.keras.optimizers import Adam\n",
    "from tensorflow.keras.losses import binary_crossentropy\n",
    "from tensorflow.keras.metrics import binary_accuracy\n",
    "from model import  cnn\n",
    "input_size = (64, 64, 64)\n",
    "batch_size = 4\n",
    "#CNN_weights_path = \"drive/My Drive/Liver3D/pretrained_weights/CNN_all_final.hdf5\"\n",
    "model = cnn.Unet3D(size=(64, 64, 64),base_n_filter = 16, output_activation_name='sigmoid',CNN_weights_path=\"/content/drive/My Drive/Luan Van 2019/Tumor/weights/weights_model14/best_valid_model14_t2.hdf5\")"
   ]
  },
  {
   "cell_type": "code",
   "execution_count": 0,
   "metadata": {
    "colab": {},
    "colab_type": "code",
    "id": "CZyOZfT2o04Q"
   },
   "outputs": [],
   "source": [
    "import tensorflow as tf\n",
    "def Dice_loss(y_true,y_pred):\n",
    "    return 1-DICE(y_true,y_pred)\n",
    "def DICE(y_true, y_pred, smooth=1.0):\n",
    "    y_true_f = K.flatten(y_true)\n",
    "    y_pred_f = K.flatten(y_pred)\n",
    "    intersection = K.sum(y_true_f * y_pred_f)\n",
    "    return (2. * intersection + smooth) / (K.sum(y_true_f) + K.sum(y_pred_f) + smooth)"
   ]
  },
  {
   "cell_type": "code",
   "execution_count": 0,
   "metadata": {
    "colab": {
     "base_uri": "https://localhost:8080/",
     "height": 51
    },
    "colab_type": "code",
    "executionInfo": {
     "elapsed": 1014,
     "status": "ok",
     "timestamp": 1576605962250,
     "user": {
      "displayName": "Kiệt Trần",
      "photoUrl": "",
      "userId": "02595592618101445197"
     },
     "user_tz": -420
    },
    "id": "JMKnYLajq8O2",
    "outputId": "b9eb5f85-3414-4743-c28f-b0b9549e1cd1"
   },
   "outputs": [
    {
     "name": "stdout",
     "output_type": "stream",
     "text": [
      "steps_per_epoch:  3000\n",
      "validation_steps:  720\n"
     ]
    }
   ],
   "source": [
    "n_epochs = 50\n",
    "learning_rate = 1e-5\n",
    "early_stopping_patience = n_epochs-1\n",
    "steps_per_epoch = 50*240//batch_size\n",
    "validation_steps = 12*240//batch_size\n",
    "checkpoint_best_lost_path = \"/content/drive/My Drive/Luan Van 2019/Tumor/weights/weight_unet/best_loss_unet_ver2.hdf5\"\n",
    "checkpoint_best_valloss_path = \"/content/drive/My Drive/Luan Van 2019/Tumor/weights/weight_unet/best_valid_unet_ver2.hdf5\"\n",
    "checkpoint_best_last_path = \"/content/drive/My Drive/Luan Van 2019/Tumor/weights/weight_unet/last_weight_unet_ver2.hdf5\"\n",
    "print('steps_per_epoch: ', steps_per_epoch)\n",
    "print('validation_steps: ',validation_steps)\n",
    "#checkpoint_path_Unet3D = \"/content/drive/My Drive/Luan Van 2019/Tumor/weights/weight_unet/last_weight_unet_ver2.hdf5\"\n",
    "#model.load_weights(checkpoint_path_Unet3D)\n",
    "model.compile(optimizer=Adam(lr=learning_rate), loss=Dice_loss, metrics=[VOE ,DICE,binary_accuracy])"
   ]
  },
  {
   "cell_type": "code",
   "execution_count": 0,
   "metadata": {
    "colab": {
     "base_uri": "https://localhost:8080/",
     "height": 105
    },
    "colab_type": "code",
    "executionInfo": {
     "elapsed": 3348,
     "status": "ok",
     "timestamp": 1576605974301,
     "user": {
      "displayName": "Kiệt Trần",
      "photoUrl": "",
      "userId": "02595592618101445197"
     },
     "user_tz": -420
    },
    "id": "4KMo3imUrxL1",
    "outputId": "774bb370-15e7-442e-a41f-cf9fea38cb7a"
   },
   "outputs": [
    {
     "name": "stdout",
     "output_type": "stream",
     "text": [
      "['/content/drive/My Drive/Dataset2/data/data_5/train/scan-n0240-s64_64_64.part001.npy', '/content/drive/My Drive/Dataset2/data/data_5/train/scan-n0240-s64_64_64.part002.npy', '/content/drive/My Drive/Dataset2/data/data_5/train/scan-n0240-s64_64_64.part003.npy', '/content/drive/My Drive/Dataset2/data/data_5/train/scan-n0240-s64_64_64.part004.npy', '/content/drive/My Drive/Dataset2/data/data_5/train/scan-n0240-s64_64_64.part005.npy', '/content/drive/My Drive/Dataset2/data/data_5/train/scan-n0240-s64_64_64.part006.npy', '/content/drive/My Drive/Dataset2/data/data_5/train/scan-n0240-s64_64_64.part007.npy', '/content/drive/My Drive/Dataset2/data/data_5/train/scan-n0240-s64_64_64.part008.npy', '/content/drive/My Drive/Dataset2/data/data_5/train/scan-n0240-s64_64_64.part009.npy', '/content/drive/My Drive/Dataset2/data/data_5/train/scan-n0240-s64_64_64.part010.npy', '/content/drive/My Drive/Dataset2/data/data_5/train/scan-n0240-s64_64_64.part011.npy', '/content/drive/My Drive/Dataset2/data/data_5/train/scan-n0240-s64_64_64.part017.npy', '/content/drive/My Drive/Dataset2/data/data_5/train/scan-n0240-s64_64_64.part018.npy', '/content/drive/My Drive/Dataset2/data/data_5/train/scan-n0240-s64_64_64.part019.npy', '/content/drive/My Drive/Dataset2/data/data_5/train/scan-n0240-s64_64_64.part020.npy', '/content/drive/My Drive/Dataset2/data/data_5/train/scan-n0240-s64_64_64.part021.npy', '/content/drive/My Drive/Dataset2/data/data_5/train/scan-n0240-s64_64_64.part022.npy', '/content/drive/My Drive/Dataset2/data/data_5/train/scan-n0240-s64_64_64.part023.npy', '/content/drive/My Drive/Dataset2/data/data_5/train/scan-n0240-s64_64_64.part024.npy', '/content/drive/My Drive/Dataset2/data/data_5/train/scan-n0240-s64_64_64.part025.npy', '/content/drive/My Drive/Dataset2/data/data_5/train/scan-n0240-s64_64_64.part026.npy', '/content/drive/My Drive/Dataset2/data/data_5/train/scan-n0240-s64_64_64.part027.npy', '/content/drive/My Drive/Dataset2/data/data_5/train/scan-n0240-s64_64_64.part028.npy', '/content/drive/My Drive/Dataset2/data/data_5/train/scan-n0240-s64_64_64.part029.npy', '/content/drive/My Drive/Dataset2/data/data_5/train/scan-n0240-s64_64_64.part030.npy', '/content/drive/My Drive/Dataset2/data/data_5/train/scan-n0240-s64_64_64.part031.npy', '/content/drive/My Drive/Dataset2/data/data_5/train/scan-n0240-s64_64_64.part032.npy', '/content/drive/My Drive/Dataset2/data/data_5/train/scan-n0240-s64_64_64.part033.npy', '/content/drive/My Drive/Dataset2/data/data_5/train/scan-n0240-s64_64_64.part034.npy', '/content/drive/My Drive/Dataset2/data/data_5/train/scan-n0240-s64_64_64.part035.npy', '/content/drive/My Drive/Dataset2/data/data_5/train/scan-n0240-s64_64_64.part036.npy', '/content/drive/My Drive/Dataset2/data/data_5/train/scan-n0240-s64_64_64.part037.npy', '/content/drive/My Drive/Dataset2/data/data_5/train/scan-n0240-s64_64_64.part038.npy', '/content/drive/My Drive/Dataset2/data/data_5/train/scan-n0240-s64_64_64.part039.npy', '/content/drive/My Drive/Dataset2/data/data_5/train/scan-n0240-s64_64_64.part040.npy', '/content/drive/My Drive/Dataset2/data/data_5/train/scan-n0240-s64_64_64.part041.npy', '/content/drive/My Drive/Dataset2/data/data_5/train/scan-n0240-s64_64_64.part042.npy', '/content/drive/My Drive/Dataset2/data/data_5/train/scan-n0240-s64_64_64.part043.npy', '/content/drive/My Drive/Dataset2/data/data_5/train/scan-n0240-s64_64_64.part051.npy', '/content/drive/My Drive/Dataset2/data/data_5/train/scan-n0240-s64_64_64.part052.npy', '/content/drive/My Drive/Dataset2/data/data_5/train/scan-n0240-s64_64_64.part053.npy', '/content/drive/My Drive/Dataset2/data/data_5/train/scan-n0240-s64_64_64.part054.npy', '/content/drive/My Drive/Dataset2/data/data_5/train/scan-n0240-s64_64_64.part055.npy', '/content/drive/My Drive/Dataset2/data/data_5/train/scan-n0240-s64_64_64.part056.npy', '/content/drive/My Drive/Dataset2/data/data_5/train/scan-n0240-s64_64_64.part057.npy', '/content/drive/My Drive/Dataset2/data/data_5/train/scan-n0240-s64_64_64.part058.npy', '/content/drive/My Drive/Dataset2/data/data_5/train/scan-n0240-s64_64_64.part059.npy', '/content/drive/My Drive/Dataset2/data/data_5/train/scan-n0240-s64_64_64.part060.npy']\n",
      "['/content/drive/My Drive/Dataset2/data/data_5/train/gt-n0240-s64_64_64.part001.npy', '/content/drive/My Drive/Dataset2/data/data_5/train/gt-n0240-s64_64_64.part002.npy', '/content/drive/My Drive/Dataset2/data/data_5/train/gt-n0240-s64_64_64.part003.npy', '/content/drive/My Drive/Dataset2/data/data_5/train/gt-n0240-s64_64_64.part004.npy', '/content/drive/My Drive/Dataset2/data/data_5/train/gt-n0240-s64_64_64.part005.npy', '/content/drive/My Drive/Dataset2/data/data_5/train/gt-n0240-s64_64_64.part006.npy', '/content/drive/My Drive/Dataset2/data/data_5/train/gt-n0240-s64_64_64.part007.npy', '/content/drive/My Drive/Dataset2/data/data_5/train/gt-n0240-s64_64_64.part008.npy', '/content/drive/My Drive/Dataset2/data/data_5/train/gt-n0240-s64_64_64.part009.npy', '/content/drive/My Drive/Dataset2/data/data_5/train/gt-n0240-s64_64_64.part010.npy', '/content/drive/My Drive/Dataset2/data/data_5/train/gt-n0240-s64_64_64.part011.npy', '/content/drive/My Drive/Dataset2/data/data_5/train/gt-n0240-s64_64_64.part017.npy', '/content/drive/My Drive/Dataset2/data/data_5/train/gt-n0240-s64_64_64.part018.npy', '/content/drive/My Drive/Dataset2/data/data_5/train/gt-n0240-s64_64_64.part019.npy', '/content/drive/My Drive/Dataset2/data/data_5/train/gt-n0240-s64_64_64.part020.npy', '/content/drive/My Drive/Dataset2/data/data_5/train/gt-n0240-s64_64_64.part021.npy', '/content/drive/My Drive/Dataset2/data/data_5/train/gt-n0240-s64_64_64.part022.npy', '/content/drive/My Drive/Dataset2/data/data_5/train/gt-n0240-s64_64_64.part023.npy', '/content/drive/My Drive/Dataset2/data/data_5/train/gt-n0240-s64_64_64.part024.npy', '/content/drive/My Drive/Dataset2/data/data_5/train/gt-n0240-s64_64_64.part025.npy', '/content/drive/My Drive/Dataset2/data/data_5/train/gt-n0240-s64_64_64.part026.npy', '/content/drive/My Drive/Dataset2/data/data_5/train/gt-n0240-s64_64_64.part027.npy', '/content/drive/My Drive/Dataset2/data/data_5/train/gt-n0240-s64_64_64.part028.npy', '/content/drive/My Drive/Dataset2/data/data_5/train/gt-n0240-s64_64_64.part029.npy', '/content/drive/My Drive/Dataset2/data/data_5/train/gt-n0240-s64_64_64.part030.npy', '/content/drive/My Drive/Dataset2/data/data_5/train/gt-n0240-s64_64_64.part031.npy', '/content/drive/My Drive/Dataset2/data/data_5/train/gt-n0240-s64_64_64.part032.npy', '/content/drive/My Drive/Dataset2/data/data_5/train/gt-n0240-s64_64_64.part033.npy', '/content/drive/My Drive/Dataset2/data/data_5/train/gt-n0240-s64_64_64.part034.npy', '/content/drive/My Drive/Dataset2/data/data_5/train/gt-n0240-s64_64_64.part035.npy', '/content/drive/My Drive/Dataset2/data/data_5/train/gt-n0240-s64_64_64.part036.npy', '/content/drive/My Drive/Dataset2/data/data_5/train/gt-n0240-s64_64_64.part037.npy', '/content/drive/My Drive/Dataset2/data/data_5/train/gt-n0240-s64_64_64.part038.npy', '/content/drive/My Drive/Dataset2/data/data_5/train/gt-n0240-s64_64_64.part039.npy', '/content/drive/My Drive/Dataset2/data/data_5/train/gt-n0240-s64_64_64.part040.npy', '/content/drive/My Drive/Dataset2/data/data_5/train/gt-n0240-s64_64_64.part041.npy', '/content/drive/My Drive/Dataset2/data/data_5/train/gt-n0240-s64_64_64.part042.npy', '/content/drive/My Drive/Dataset2/data/data_5/train/gt-n0240-s64_64_64.part043.npy', '/content/drive/My Drive/Dataset2/data/data_5/train/gt-n0240-s64_64_64.part051.npy', '/content/drive/My Drive/Dataset2/data/data_5/train/gt-n0240-s64_64_64.part052.npy', '/content/drive/My Drive/Dataset2/data/data_5/train/gt-n0240-s64_64_64.part053.npy', '/content/drive/My Drive/Dataset2/data/data_5/train/gt-n0240-s64_64_64.part054.npy', '/content/drive/My Drive/Dataset2/data/data_5/train/gt-n0240-s64_64_64.part055.npy', '/content/drive/My Drive/Dataset2/data/data_5/train/gt-n0240-s64_64_64.part056.npy', '/content/drive/My Drive/Dataset2/data/data_5/train/gt-n0240-s64_64_64.part057.npy', '/content/drive/My Drive/Dataset2/data/data_5/train/gt-n0240-s64_64_64.part058.npy', '/content/drive/My Drive/Dataset2/data/data_5/train/gt-n0240-s64_64_64.part059.npy', '/content/drive/My Drive/Dataset2/data/data_5/train/gt-n0240-s64_64_64.part060.npy']\n",
      "['/content/drive/My Drive/Dataset2/data/data_5/valid/scan-n0240-s64_64_64.part001.npy', '/content/drive/My Drive/Dataset2/data/data_5/valid/scan-n0240-s64_64_64.part002.npy', '/content/drive/My Drive/Dataset2/data/data_5/valid/scan-n0240-s64_64_64.part003.npy', '/content/drive/My Drive/Dataset2/data/data_5/valid/scan-n0240-s64_64_64.part004.npy', '/content/drive/My Drive/Dataset2/data/data_5/valid/scan-n0240-s64_64_64.part005.npy', '/content/drive/My Drive/Dataset2/data/data_5/valid/scan-n0240-s64_64_64.part006.npy', '/content/drive/My Drive/Dataset2/data/data_5/valid/scan-n0240-s64_64_64.part007.npy', '/content/drive/My Drive/Dataset2/data/data_5/valid/scan-n0240-s64_64_64.part008.npy', '/content/drive/My Drive/Dataset2/data/data_5/valid/scan-n0240-s64_64_64.part009.npy', '/content/drive/My Drive/Dataset2/data/data_5/valid/scan-n0240-s64_64_64.part010.npy', '/content/drive/My Drive/Dataset2/data/data_5/valid/scan-n0240-s64_64_64.part011.npy', '/content/drive/My Drive/Dataset2/data/data_5/valid/scan-n0240-s64_64_64.part012.npy']\n",
      "['/content/drive/My Drive/Dataset2/data/data_5/valid/gt-n0240-s64_64_64.part001.npy', '/content/drive/My Drive/Dataset2/data/data_5/valid/gt-n0240-s64_64_64.part002.npy', '/content/drive/My Drive/Dataset2/data/data_5/valid/gt-n0240-s64_64_64.part003.npy', '/content/drive/My Drive/Dataset2/data/data_5/valid/gt-n0240-s64_64_64.part004.npy', '/content/drive/My Drive/Dataset2/data/data_5/valid/gt-n0240-s64_64_64.part005.npy', '/content/drive/My Drive/Dataset2/data/data_5/valid/gt-n0240-s64_64_64.part006.npy', '/content/drive/My Drive/Dataset2/data/data_5/valid/gt-n0240-s64_64_64.part007.npy', '/content/drive/My Drive/Dataset2/data/data_5/valid/gt-n0240-s64_64_64.part008.npy', '/content/drive/My Drive/Dataset2/data/data_5/valid/gt-n0240-s64_64_64.part009.npy', '/content/drive/My Drive/Dataset2/data/data_5/valid/gt-n0240-s64_64_64.part010.npy', '/content/drive/My Drive/Dataset2/data/data_5/valid/gt-n0240-s64_64_64.part011.npy', '/content/drive/My Drive/Dataset2/data/data_5/valid/gt-n0240-s64_64_64.part012.npy']\n"
     ]
    }
   ],
   "source": [
    "import glob\n",
    "X_train = glob.glob(r'/content/drive/My Drive/Dataset2/data/data_5/train/scan*')\n",
    "y_train = glob.glob(r'/content/drive/My Drive/Dataset2/data/data_5/train/gt*')\n",
    "X_val = glob.glob(r'/content/drive/My Drive/Dataset2/data/data_5/valid/scan*')\n",
    "y_val = glob.glob(r'/content/drive/My Drive/Dataset2/data/data_5/valid/gt*')\n",
    "X_train.sort()\n",
    "y_train.sort()\n",
    "X_val.sort()\n",
    "y_val.sort()\n",
    "X_train=X_train[0:50]\n",
    "y_train=y_train[0:50]\n",
    "print(X_train)\n",
    "print(y_train)\n",
    "print(X_val)\n",
    "print(y_val)"
   ]
  },
  {
   "cell_type": "code",
   "execution_count": 0,
   "metadata": {
    "colab": {},
    "colab_type": "code",
    "id": "dBkzkBLYr0Q7"
   },
   "outputs": [],
   "source": [
    "training_generator = npy_generator(X_train,y_train, use_normalize = False, batch_size=batch_size, n_outputs = 1, subtract_mean = None,reshape = True)\n",
    "validation_generator = npy_generator(X_val,y_val, use_normalize = False, batch_size=batch_size, n_outputs = 1, subtract_mean = None,reshape = True)\n",
    "model_checkpoint_loss = ModelCheckpoint(checkpoint_best_lost_path, monitor='loss', verbose = 1, save_best_only=True)\n",
    "model_checkpoint_valloss = ModelCheckpoint(checkpoint_best_valloss_path, monitor='val_loss', verbose = 1, save_best_only=True)\n",
    "model_checkpoint_last = ModelCheckpoint(checkpoint_best_last_path, verbose = 1, save_best_only=False)\n",
    "learning_rate_plateau_loss = ReduceLROnPlateau(monitor='loss', factor=0.1, patience=n_epochs//3, verbose=0, mode='auto', min_delta=0.0001, cooldown=0, min_lr=1e-9)\n",
    "learning_rate_plateau_valloss = ReduceLROnPlateau(monitor='val_loss', factor=0.1, patience=n_epochs//2, verbose=0, mode='auto', min_delta=0.0001, cooldown=0, min_lr=1e-9)\n",
    "early_stopping = EarlyStopping(verbose = 1, patience=early_stopping_patience)\n",
    "logfile = \"/content/drive/My Drive/Luan Van 2019/Tumor/log/log_model_unet_ver2.csv\"\n",
    "csv_logger = CSVLogger(logfile, separator=',', append=True)\n",
    "call_backs = [model_checkpoint_loss, model_checkpoint_valloss,model_checkpoint_last ,learning_rate_plateau_loss,csv_logger,learning_rate_plateau_valloss, early_stopping]"
   ]
  },
  {
   "cell_type": "code",
   "execution_count": 0,
   "metadata": {
    "colab": {
     "base_uri": "https://localhost:8080/",
     "height": 1000
    },
    "colab_type": "code",
    "executionInfo": {
     "elapsed": 7010,
     "status": "error",
     "timestamp": 1574826831904,
     "user": {
      "displayName": "Anh Kiệt Trần",
      "photoUrl": "https://lh3.googleusercontent.com/a-/AAuE7mCm0idJmmBWlkXkquBiguFhQJbmieiKr6CylgTi=s64",
      "userId": "03604867749886055948"
     },
     "user_tz": -420
    },
    "id": "sKYm1jNfr5J1",
    "outputId": "9753c2b4-88ea-4c85-d5e2-2a31e000abdc"
   },
   "outputs": [
    {
     "name": "stdout",
     "output_type": "stream",
     "text": [
      "Epoch 1/50\n",
      "2999/3000 [============================>.] - ETA: 0s - loss: 0.4155 - VOE: 0.5368 - DICE: 0.5845 - binary_accuracy: 0.9547Epoch 1/50\n",
      " 720/3000 [======>.......................] - ETA: 9:02 - loss: 0.4999 - VOE: 0.6169 - DICE: 0.5001 - binary_accuracy: 0.9746\n",
      "Epoch 00001: loss improved from inf to 0.41548, saving model to /content/drive/My Drive/Luan Van 2019/Tumor/weights/weight_unet/best_loss_unet_ver2.hdf5\n",
      "\n",
      "Epoch 00001: val_loss improved from inf to 0.49992, saving model to /content/drive/My Drive/Luan Van 2019/Tumor/weights/weight_unet/best_valid_unet_ver2.hdf5\n",
      "\n",
      "Epoch 00001: saving model to /content/drive/My Drive/Luan Van 2019/Tumor/weights/weight_unet/last_weight_unet_ver2.hdf5\n",
      "3000/3000 [==============================] - 1117s 372ms/step - loss: 0.4155 - VOE: 0.5368 - DICE: 0.5845 - binary_accuracy: 0.9547 - val_loss: 0.4999 - val_VOE: 0.6169 - val_DICE: 0.5001 - val_binary_accuracy: 0.9746\n",
      "Epoch 2/50\n",
      "2999/3000 [============================>.] - ETA: 0s - loss: 0.3275 - VOE: 0.4583 - DICE: 0.6725 - binary_accuracy: 0.9849Epoch 1/50\n",
      " 720/3000 [======>.......................] - ETA: 2:49 - loss: 0.4881 - VOE: 0.6071 - DICE: 0.5119 - binary_accuracy: 0.9744\n",
      "Epoch 00002: loss improved from 0.41548 to 0.32743, saving model to /content/drive/My Drive/Luan Van 2019/Tumor/weights/weight_unet/best_loss_unet_ver2.hdf5\n",
      "\n",
      "Epoch 00002: val_loss improved from 0.49992 to 0.48805, saving model to /content/drive/My Drive/Luan Van 2019/Tumor/weights/weight_unet/best_valid_unet_ver2.hdf5\n",
      "\n",
      "Epoch 00002: saving model to /content/drive/My Drive/Luan Van 2019/Tumor/weights/weight_unet/last_weight_unet_ver2.hdf5\n",
      "3000/3000 [==============================] - 791s 264ms/step - loss: 0.3274 - VOE: 0.4582 - DICE: 0.6726 - binary_accuracy: 0.9849 - val_loss: 0.4881 - val_VOE: 0.6071 - val_DICE: 0.5119 - val_binary_accuracy: 0.9744\n",
      "Epoch 3/50\n",
      "2999/3000 [============================>.] - ETA: 0s - loss: 0.2979 - VOE: 0.4286 - DICE: 0.7021 - binary_accuracy: 0.9854Epoch 1/50\n",
      " 720/3000 [======>.......................] - ETA: 2:48 - loss: 0.4446 - VOE: 0.5674 - DICE: 0.5554 - binary_accuracy: 0.9764\n",
      "Epoch 00003: loss improved from 0.32743 to 0.29792, saving model to /content/drive/My Drive/Luan Van 2019/Tumor/weights/weight_unet/best_loss_unet_ver2.hdf5\n",
      "\n",
      "Epoch 00003: val_loss improved from 0.48805 to 0.44461, saving model to /content/drive/My Drive/Luan Van 2019/Tumor/weights/weight_unet/best_valid_unet_ver2.hdf5\n",
      "\n",
      "Epoch 00003: saving model to /content/drive/My Drive/Luan Van 2019/Tumor/weights/weight_unet/last_weight_unet_ver2.hdf5\n",
      "3000/3000 [==============================] - 787s 262ms/step - loss: 0.2979 - VOE: 0.4287 - DICE: 0.7021 - binary_accuracy: 0.9854 - val_loss: 0.4446 - val_VOE: 0.5674 - val_DICE: 0.5554 - val_binary_accuracy: 0.9764\n",
      "Epoch 4/50\n",
      "2999/3000 [============================>.] - ETA: 0s - loss: 0.3019 - VOE: 0.4303 - DICE: 0.6981 - binary_accuracy: 0.9868Epoch 1/50\n",
      " 720/3000 [======>.......................] - ETA: 2:47 - loss: 0.4481 - VOE: 0.5747 - DICE: 0.5519 - binary_accuracy: 0.9753\n",
      "Epoch 00004: loss did not improve from 0.29792\n",
      "\n",
      "Epoch 00004: val_loss did not improve from 0.44461\n",
      "\n",
      "Epoch 00004: saving model to /content/drive/My Drive/Luan Van 2019/Tumor/weights/weight_unet/last_weight_unet_ver2.hdf5\n",
      "3000/3000 [==============================] - 784s 261ms/step - loss: 0.3019 - VOE: 0.4302 - DICE: 0.6981 - binary_accuracy: 0.9868 - val_loss: 0.4481 - val_VOE: 0.5747 - val_DICE: 0.5519 - val_binary_accuracy: 0.9753\n",
      "Epoch 5/50\n",
      "2999/3000 [============================>.] - ETA: 0s - loss: 0.2783 - VOE: 0.4064 - DICE: 0.7217 - binary_accuracy: 0.9865Epoch 1/50\n",
      " 720/3000 [======>.......................] - ETA: 2:48 - loss: 0.4451 - VOE: 0.5734 - DICE: 0.5549 - binary_accuracy: 0.9755\n",
      "Epoch 00005: loss improved from 0.29792 to 0.27832, saving model to /content/drive/My Drive/Luan Van 2019/Tumor/weights/weight_unet/best_loss_unet_ver2.hdf5\n",
      "\n",
      "Epoch 00005: val_loss did not improve from 0.44461\n",
      "\n",
      "Epoch 00005: saving model to /content/drive/My Drive/Luan Van 2019/Tumor/weights/weight_unet/last_weight_unet_ver2.hdf5\n",
      "3000/3000 [==============================] - 787s 262ms/step - loss: 0.2783 - VOE: 0.4064 - DICE: 0.7217 - binary_accuracy: 0.9865 - val_loss: 0.4451 - val_VOE: 0.5734 - val_DICE: 0.5549 - val_binary_accuracy: 0.9755\n",
      "Epoch 6/50\n",
      "2999/3000 [============================>.] - ETA: 0s - loss: 0.2865 - VOE: 0.4142 - DICE: 0.7135 - binary_accuracy: 0.9871Epoch 1/50\n",
      " 720/3000 [======>.......................] - ETA: 2:47 - loss: 0.4795 - VOE: 0.6033 - DICE: 0.5205 - binary_accuracy: 0.9755\n",
      "Epoch 00006: loss did not improve from 0.27832\n",
      "\n",
      "Epoch 00006: val_loss did not improve from 0.44461\n",
      "\n",
      "Epoch 00006: saving model to /content/drive/My Drive/Luan Van 2019/Tumor/weights/weight_unet/last_weight_unet_ver2.hdf5\n",
      "3000/3000 [==============================] - 783s 261ms/step - loss: 0.2866 - VOE: 0.4143 - DICE: 0.7134 - binary_accuracy: 0.9871 - val_loss: 0.4795 - val_VOE: 0.6033 - val_DICE: 0.5205 - val_binary_accuracy: 0.9755\n",
      "Epoch 7/50\n",
      "2999/3000 [============================>.] - ETA: 0s - loss: 0.2541 - VOE: 0.3810 - DICE: 0.7459 - binary_accuracy: 0.9870Epoch 1/50\n",
      " 720/3000 [======>.......................] - ETA: 2:47 - loss: 0.4093 - VOE: 0.5385 - DICE: 0.5907 - binary_accuracy: 0.9764\n",
      "Epoch 00007: loss improved from 0.27832 to 0.25405, saving model to /content/drive/My Drive/Luan Van 2019/Tumor/weights/weight_unet/best_loss_unet_ver2.hdf5\n",
      "\n",
      "Epoch 00007: val_loss improved from 0.44461 to 0.40931, saving model to /content/drive/My Drive/Luan Van 2019/Tumor/weights/weight_unet/best_valid_unet_ver2.hdf5\n",
      "\n",
      "Epoch 00007: saving model to /content/drive/My Drive/Luan Van 2019/Tumor/weights/weight_unet/last_weight_unet_ver2.hdf5\n",
      "3000/3000 [==============================] - 786s 262ms/step - loss: 0.2541 - VOE: 0.3809 - DICE: 0.7459 - binary_accuracy: 0.9870 - val_loss: 0.4093 - val_VOE: 0.5385 - val_DICE: 0.5907 - val_binary_accuracy: 0.9764\n",
      "Epoch 8/50\n",
      "2999/3000 [============================>.] - ETA: 0s - loss: 0.2705 - VOE: 0.3986 - DICE: 0.7295 - binary_accuracy: 0.9872Epoch 1/50\n",
      " 720/3000 [======>.......................] - ETA: 2:45 - loss: 0.4723 - VOE: 0.5939 - DICE: 0.5277 - binary_accuracy: 0.9774\n",
      "Epoch 00008: loss did not improve from 0.25405\n",
      "\n",
      "Epoch 00008: val_loss did not improve from 0.40931\n",
      "\n",
      "Epoch 00008: saving model to /content/drive/My Drive/Luan Van 2019/Tumor/weights/weight_unet/last_weight_unet_ver2.hdf5\n",
      "3000/3000 [==============================] - 781s 260ms/step - loss: 0.2705 - VOE: 0.3986 - DICE: 0.7295 - binary_accuracy: 0.9872 - val_loss: 0.4723 - val_VOE: 0.5939 - val_DICE: 0.5277 - val_binary_accuracy: 0.9774\n",
      "Epoch 9/50\n",
      "2999/3000 [============================>.] - ETA: 0s - loss: 0.2568 - VOE: 0.3833 - DICE: 0.7432 - binary_accuracy: 0.9879Epoch 1/50\n",
      " 720/3000 [======>.......................] - ETA: 2:46 - loss: 0.4663 - VOE: 0.5951 - DICE: 0.5337 - binary_accuracy: 0.9715\n",
      "Epoch 00009: loss did not improve from 0.25405\n",
      "\n",
      "Epoch 00009: val_loss did not improve from 0.40931\n",
      "\n",
      "Epoch 00009: saving model to /content/drive/My Drive/Luan Van 2019/Tumor/weights/weight_unet/last_weight_unet_ver2.hdf5\n",
      "3000/3000 [==============================] - 782s 261ms/step - loss: 0.2568 - VOE: 0.3833 - DICE: 0.7432 - binary_accuracy: 0.9879 - val_loss: 0.4663 - val_VOE: 0.5951 - val_DICE: 0.5337 - val_binary_accuracy: 0.9715\n",
      "Epoch 10/50\n",
      "2999/3000 [============================>.] - ETA: 0s - loss: 0.2494 - VOE: 0.3764 - DICE: 0.7506 - binary_accuracy: 0.9878Epoch 1/50\n",
      " 720/3000 [======>.......................] - ETA: 2:45 - loss: 0.4319 - VOE: 0.5608 - DICE: 0.5681 - binary_accuracy: 0.9811\n",
      "Epoch 00010: loss improved from 0.25405 to 0.24936, saving model to /content/drive/My Drive/Luan Van 2019/Tumor/weights/weight_unet/best_loss_unet_ver2.hdf5\n",
      "\n",
      "Epoch 00010: val_loss did not improve from 0.40931\n",
      "\n",
      "Epoch 00010: saving model to /content/drive/My Drive/Luan Van 2019/Tumor/weights/weight_unet/last_weight_unet_ver2.hdf5\n",
      "3000/3000 [==============================] - 782s 261ms/step - loss: 0.2494 - VOE: 0.3764 - DICE: 0.7506 - binary_accuracy: 0.9878 - val_loss: 0.4319 - val_VOE: 0.5608 - val_DICE: 0.5681 - val_binary_accuracy: 0.9811\n",
      "Epoch 11/50\n",
      "2999/3000 [============================>.] - ETA: 0s - loss: 0.2550 - VOE: 0.3789 - DICE: 0.7450 - binary_accuracy: 0.9873Epoch 1/50\n",
      " 720/3000 [======>.......................] - ETA: 2:46 - loss: 0.4595 - VOE: 0.5860 - DICE: 0.5405 - binary_accuracy: 0.9725\n",
      "Epoch 00011: loss did not improve from 0.24936\n",
      "\n",
      "Epoch 00011: val_loss did not improve from 0.40931\n",
      "\n",
      "Epoch 00011: saving model to /content/drive/My Drive/Luan Van 2019/Tumor/weights/weight_unet/last_weight_unet_ver2.hdf5\n",
      "3000/3000 [==============================] - 781s 260ms/step - loss: 0.2551 - VOE: 0.3790 - DICE: 0.7449 - binary_accuracy: 0.9873 - val_loss: 0.4595 - val_VOE: 0.5860 - val_DICE: 0.5405 - val_binary_accuracy: 0.9725\n",
      "Epoch 12/50\n",
      "2999/3000 [============================>.] - ETA: 0s - loss: 0.2385 - VOE: 0.3602 - DICE: 0.7615 - binary_accuracy: 0.9876Epoch 1/50\n",
      " 720/3000 [======>.......................] - ETA: 2:47 - loss: 0.4602 - VOE: 0.5862 - DICE: 0.5398 - binary_accuracy: 0.9766\n",
      "Epoch 00012: loss improved from 0.24936 to 0.23853, saving model to /content/drive/My Drive/Luan Van 2019/Tumor/weights/weight_unet/best_loss_unet_ver2.hdf5\n",
      "\n",
      "Epoch 00012: val_loss did not improve from 0.40931\n",
      "\n",
      "Epoch 00012: saving model to /content/drive/My Drive/Luan Van 2019/Tumor/weights/weight_unet/last_weight_unet_ver2.hdf5\n",
      "3000/3000 [==============================] - 785s 262ms/step - loss: 0.2385 - VOE: 0.3603 - DICE: 0.7615 - binary_accuracy: 0.9876 - val_loss: 0.4602 - val_VOE: 0.5862 - val_DICE: 0.5398 - val_binary_accuracy: 0.9766\n",
      "Epoch 13/50\n",
      "2999/3000 [============================>.] - ETA: 0s - loss: 0.2465 - VOE: 0.3715 - DICE: 0.7535 - binary_accuracy: 0.9888Epoch 1/50\n",
      " 720/3000 [======>.......................] - ETA: 2:46 - loss: 0.4260 - VOE: 0.5570 - DICE: 0.5740 - binary_accuracy: 0.9780\n",
      "Epoch 00013: loss did not improve from 0.23853\n",
      "\n",
      "Epoch 00013: val_loss did not improve from 0.40931\n",
      "\n",
      "Epoch 00013: saving model to /content/drive/My Drive/Luan Van 2019/Tumor/weights/weight_unet/last_weight_unet_ver2.hdf5\n",
      "3000/3000 [==============================] - 781s 260ms/step - loss: 0.2464 - VOE: 0.3714 - DICE: 0.7536 - binary_accuracy: 0.9888 - val_loss: 0.4260 - val_VOE: 0.5570 - val_DICE: 0.5740 - val_binary_accuracy: 0.9780\n",
      "Epoch 14/50\n",
      "2999/3000 [============================>.] - ETA: 0s - loss: 0.2339 - VOE: 0.3573 - DICE: 0.7661 - binary_accuracy: 0.9877Epoch 1/50\n",
      " 720/3000 [======>.......................] - ETA: 2:46 - loss: 0.4696 - VOE: 0.5962 - DICE: 0.5304 - binary_accuracy: 0.9744\n",
      "Epoch 00014: loss improved from 0.23853 to 0.23385, saving model to /content/drive/My Drive/Luan Van 2019/Tumor/weights/weight_unet/best_loss_unet_ver2.hdf5\n",
      "\n",
      "Epoch 00014: val_loss did not improve from 0.40931\n",
      "\n",
      "Epoch 00014: saving model to /content/drive/My Drive/Luan Van 2019/Tumor/weights/weight_unet/last_weight_unet_ver2.hdf5\n",
      "3000/3000 [==============================] - 785s 262ms/step - loss: 0.2339 - VOE: 0.3573 - DICE: 0.7661 - binary_accuracy: 0.9877 - val_loss: 0.4696 - val_VOE: 0.5962 - val_DICE: 0.5304 - val_binary_accuracy: 0.9744\n",
      "Epoch 15/50\n",
      "2999/3000 [============================>.] - ETA: 0s - loss: 0.2303 - VOE: 0.3509 - DICE: 0.7697 - binary_accuracy: 0.9890Epoch 1/50\n",
      " 720/3000 [======>.......................] - ETA: 2:46 - loss: 0.4655 - VOE: 0.5912 - DICE: 0.5345 - binary_accuracy: 0.9758\n",
      "Epoch 00015: loss improved from 0.23385 to 0.23031, saving model to /content/drive/My Drive/Luan Van 2019/Tumor/weights/weight_unet/best_loss_unet_ver2.hdf5\n",
      "\n",
      "Epoch 00015: val_loss did not improve from 0.40931\n",
      "\n",
      "Epoch 00015: saving model to /content/drive/My Drive/Luan Van 2019/Tumor/weights/weight_unet/last_weight_unet_ver2.hdf5\n",
      "3000/3000 [==============================] - 783s 261ms/step - loss: 0.2303 - VOE: 0.3509 - DICE: 0.7697 - binary_accuracy: 0.9890 - val_loss: 0.4655 - val_VOE: 0.5912 - val_DICE: 0.5345 - val_binary_accuracy: 0.9758\n",
      "Epoch 16/50\n",
      "2999/3000 [============================>.] - ETA: 0s - loss: 0.2373 - VOE: 0.3610 - DICE: 0.7627 - binary_accuracy: 0.9886Epoch 1/50\n",
      " 720/3000 [======>.......................] - ETA: 2:45 - loss: 0.4701 - VOE: 0.5970 - DICE: 0.5299 - binary_accuracy: 0.9744\n",
      "Epoch 00016: loss did not improve from 0.23031\n",
      "\n",
      "Epoch 00016: val_loss did not improve from 0.40931\n",
      "\n",
      "Epoch 00016: saving model to /content/drive/My Drive/Luan Van 2019/Tumor/weights/weight_unet/last_weight_unet_ver2.hdf5\n",
      "3000/3000 [==============================] - 781s 260ms/step - loss: 0.2373 - VOE: 0.3610 - DICE: 0.7627 - binary_accuracy: 0.9886 - val_loss: 0.4701 - val_VOE: 0.5970 - val_DICE: 0.5299 - val_binary_accuracy: 0.9744\n",
      "Epoch 17/50\n",
      "2999/3000 [============================>.] - ETA: 0s - loss: 0.2246 - VOE: 0.3458 - DICE: 0.7754 - binary_accuracy: 0.9889Epoch 1/50\n",
      " 720/3000 [======>.......................] - ETA: 2:46 - loss: 0.4109 - VOE: 0.5403 - DICE: 0.5891 - binary_accuracy: 0.9794\n",
      "Epoch 00017: loss improved from 0.23031 to 0.22477, saving model to /content/drive/My Drive/Luan Van 2019/Tumor/weights/weight_unet/best_loss_unet_ver2.hdf5\n",
      "\n",
      "Epoch 00017: val_loss did not improve from 0.40931\n",
      "\n",
      "Epoch 00017: saving model to /content/drive/My Drive/Luan Van 2019/Tumor/weights/weight_unet/last_weight_unet_ver2.hdf5\n",
      "3000/3000 [==============================] - 782s 261ms/step - loss: 0.2248 - VOE: 0.3459 - DICE: 0.7752 - binary_accuracy: 0.9888 - val_loss: 0.4109 - val_VOE: 0.5403 - val_DICE: 0.5891 - val_binary_accuracy: 0.9794\n",
      "Epoch 18/50\n",
      "2999/3000 [============================>.] - ETA: 0s - loss: 0.2305 - VOE: 0.3504 - DICE: 0.7695 - binary_accuracy: 0.9885Epoch 1/50\n",
      " 720/3000 [======>.......................] - ETA: 2:46 - loss: 0.4771 - VOE: 0.6003 - DICE: 0.5229 - binary_accuracy: 0.9749\n",
      "Epoch 00018: loss did not improve from 0.22477\n",
      "\n",
      "Epoch 00018: val_loss did not improve from 0.40931\n",
      "\n",
      "Epoch 00018: saving model to /content/drive/My Drive/Luan Van 2019/Tumor/weights/weight_unet/last_weight_unet_ver2.hdf5\n",
      "3000/3000 [==============================] - 784s 261ms/step - loss: 0.2305 - VOE: 0.3504 - DICE: 0.7695 - binary_accuracy: 0.9885 - val_loss: 0.4771 - val_VOE: 0.6003 - val_DICE: 0.5229 - val_binary_accuracy: 0.9749\n",
      "Epoch 19/50\n",
      "2999/3000 [============================>.] - ETA: 0s - loss: 0.2361 - VOE: 0.3581 - DICE: 0.7639 - binary_accuracy: 0.9891Epoch 1/50\n",
      " 720/3000 [======>.......................] - ETA: 2:46 - loss: 0.4437 - VOE: 0.5723 - DICE: 0.5563 - binary_accuracy: 0.9759\n",
      "Epoch 00019: loss did not improve from 0.22477\n",
      "\n",
      "Epoch 00019: val_loss did not improve from 0.40931\n",
      "\n",
      "Epoch 00019: saving model to /content/drive/My Drive/Luan Van 2019/Tumor/weights/weight_unet/last_weight_unet_ver2.hdf5\n",
      "3000/3000 [==============================] - 782s 261ms/step - loss: 0.2361 - VOE: 0.3580 - DICE: 0.7639 - binary_accuracy: 0.9891 - val_loss: 0.4437 - val_VOE: 0.5723 - val_DICE: 0.5563 - val_binary_accuracy: 0.9759\n",
      "Epoch 20/50\n",
      "2999/3000 [============================>.] - ETA: 0s - loss: 0.2209 - VOE: 0.3406 - DICE: 0.7791 - binary_accuracy: 0.9888Epoch 1/50\n",
      " 720/3000 [======>.......................] - ETA: 2:47 - loss: 0.4375 - VOE: 0.5682 - DICE: 0.5625 - binary_accuracy: 0.9783\n",
      "Epoch 00020: loss improved from 0.22477 to 0.22093, saving model to /content/drive/My Drive/Luan Van 2019/Tumor/weights/weight_unet/best_loss_unet_ver2.hdf5\n",
      "\n",
      "Epoch 00020: val_loss did not improve from 0.40931\n",
      "\n",
      "Epoch 00020: saving model to /content/drive/My Drive/Luan Van 2019/Tumor/weights/weight_unet/last_weight_unet_ver2.hdf5\n",
      "3000/3000 [==============================] - 784s 261ms/step - loss: 0.2209 - VOE: 0.3406 - DICE: 0.7791 - binary_accuracy: 0.9888 - val_loss: 0.4375 - val_VOE: 0.5682 - val_DICE: 0.5625 - val_binary_accuracy: 0.9783\n",
      "Epoch 21/50\n",
      "2999/3000 [============================>.] - ETA: 0s - loss: 0.2143 - VOE: 0.3327 - DICE: 0.7857 - binary_accuracy: 0.9898Epoch 1/50\n",
      " 720/3000 [======>.......................] - ETA: 2:46 - loss: 0.4413 - VOE: 0.5683 - DICE: 0.5587 - binary_accuracy: 0.9761\n",
      "Epoch 00021: loss improved from 0.22093 to 0.21427, saving model to /content/drive/My Drive/Luan Van 2019/Tumor/weights/weight_unet/best_loss_unet_ver2.hdf5\n",
      "\n",
      "Epoch 00021: val_loss did not improve from 0.40931\n",
      "\n",
      "Epoch 00021: saving model to /content/drive/My Drive/Luan Van 2019/Tumor/weights/weight_unet/last_weight_unet_ver2.hdf5\n",
      "3000/3000 [==============================] - 785s 262ms/step - loss: 0.2143 - VOE: 0.3327 - DICE: 0.7857 - binary_accuracy: 0.9898 - val_loss: 0.4413 - val_VOE: 0.5683 - val_DICE: 0.5587 - val_binary_accuracy: 0.9761\n",
      "Epoch 22/50\n",
      "2999/3000 [============================>.] - ETA: 0s - loss: 0.2200 - VOE: 0.3388 - DICE: 0.7800 - binary_accuracy: 0.9884Epoch 1/50\n",
      " 720/3000 [======>.......................] - ETA: 2:45 - loss: 0.4639 - VOE: 0.5860 - DICE: 0.5361 - binary_accuracy: 0.9726\n",
      "Epoch 00022: loss did not improve from 0.21427\n",
      "\n",
      "Epoch 00022: val_loss did not improve from 0.40931\n",
      "\n",
      "Epoch 00022: saving model to /content/drive/My Drive/Luan Van 2019/Tumor/weights/weight_unet/last_weight_unet_ver2.hdf5\n",
      "3000/3000 [==============================] - 782s 261ms/step - loss: 0.2200 - VOE: 0.3387 - DICE: 0.7800 - binary_accuracy: 0.9884 - val_loss: 0.4639 - val_VOE: 0.5860 - val_DICE: 0.5361 - val_binary_accuracy: 0.9726\n",
      "Epoch 23/50\n",
      "2999/3000 [============================>.] - ETA: 0s - loss: 0.2150 - VOE: 0.3343 - DICE: 0.7850 - binary_accuracy: 0.9895Epoch 1/50\n",
      " 720/3000 [======>.......................] - ETA: 2:45 - loss: 0.4309 - VOE: 0.5613 - DICE: 0.5691 - binary_accuracy: 0.9782\n",
      "Epoch 00023: loss did not improve from 0.21427\n",
      "\n",
      "Epoch 00023: val_loss did not improve from 0.40931\n",
      "\n",
      "Epoch 00023: saving model to /content/drive/My Drive/Luan Van 2019/Tumor/weights/weight_unet/last_weight_unet_ver2.hdf5\n",
      "3000/3000 [==============================] - 782s 261ms/step - loss: 0.2150 - VOE: 0.3343 - DICE: 0.7850 - binary_accuracy: 0.9895 - val_loss: 0.4309 - val_VOE: 0.5613 - val_DICE: 0.5691 - val_binary_accuracy: 0.9782\n",
      "Epoch 24/50\n",
      "2999/3000 [============================>.] - ETA: 0s - loss: 0.2117 - VOE: 0.3296 - DICE: 0.7883 - binary_accuracy: 0.9892Epoch 1/50\n",
      " 720/3000 [======>.......................] - ETA: 2:44 - loss: 0.4096 - VOE: 0.5369 - DICE: 0.5904 - binary_accuracy: 0.9800\n",
      "Epoch 00024: loss improved from 0.21427 to 0.21167, saving model to /content/drive/My Drive/Luan Van 2019/Tumor/weights/weight_unet/best_loss_unet_ver2.hdf5\n",
      "\n",
      "Epoch 00024: val_loss did not improve from 0.40931\n",
      "\n",
      "Epoch 00024: saving model to /content/drive/My Drive/Luan Van 2019/Tumor/weights/weight_unet/last_weight_unet_ver2.hdf5\n",
      "3000/3000 [==============================] - 787s 262ms/step - loss: 0.2117 - VOE: 0.3296 - DICE: 0.7883 - binary_accuracy: 0.9892 - val_loss: 0.4096 - val_VOE: 0.5369 - val_DICE: 0.5904 - val_binary_accuracy: 0.9800\n",
      "Epoch 25/50\n",
      "2999/3000 [============================>.] - ETA: 0s - loss: 0.2124 - VOE: 0.3302 - DICE: 0.7876 - binary_accuracy: 0.9895Epoch 1/50\n",
      " 720/3000 [======>.......................] - ETA: 2:45 - loss: 0.4781 - VOE: 0.6017 - DICE: 0.5219 - binary_accuracy: 0.9727\n",
      "Epoch 00025: loss did not improve from 0.21167\n",
      "\n",
      "Epoch 00025: val_loss did not improve from 0.40931\n",
      "\n",
      "Epoch 00025: saving model to /content/drive/My Drive/Luan Van 2019/Tumor/weights/weight_unet/last_weight_unet_ver2.hdf5\n",
      "3000/3000 [==============================] - 781s 260ms/step - loss: 0.2123 - VOE: 0.3302 - DICE: 0.7877 - binary_accuracy: 0.9895 - val_loss: 0.4781 - val_VOE: 0.6017 - val_DICE: 0.5219 - val_binary_accuracy: 0.9727\n",
      "Epoch 26/50\n",
      "2999/3000 [============================>.] - ETA: 0s - loss: 0.2115 - VOE: 0.3291 - DICE: 0.7885 - binary_accuracy: 0.9896Epoch 1/50\n",
      " 720/3000 [======>.......................] - ETA: 2:45 - loss: 0.4638 - VOE: 0.5909 - DICE: 0.5362 - binary_accuracy: 0.9767\n",
      "Epoch 00026: loss improved from 0.21167 to 0.21148, saving model to /content/drive/My Drive/Luan Van 2019/Tumor/weights/weight_unet/best_loss_unet_ver2.hdf5\n",
      "\n",
      "Epoch 00026: val_loss did not improve from 0.40931\n",
      "\n",
      "Epoch 00026: saving model to /content/drive/My Drive/Luan Van 2019/Tumor/weights/weight_unet/last_weight_unet_ver2.hdf5\n",
      "3000/3000 [==============================] - 782s 261ms/step - loss: 0.2115 - VOE: 0.3291 - DICE: 0.7885 - binary_accuracy: 0.9896 - val_loss: 0.4638 - val_VOE: 0.5909 - val_DICE: 0.5362 - val_binary_accuracy: 0.9767\n",
      "Epoch 27/50\n",
      "2999/3000 [============================>.] - ETA: 0s - loss: 0.2139 - VOE: 0.3307 - DICE: 0.7861 - binary_accuracy: 0.9891Epoch 1/50\n",
      " 720/3000 [======>.......................] - ETA: 2:45 - loss: 0.4119 - VOE: 0.5434 - DICE: 0.5881 - binary_accuracy: 0.9765\n",
      "Epoch 00027: loss did not improve from 0.21148\n",
      "\n",
      "Epoch 00027: val_loss did not improve from 0.40931\n",
      "\n",
      "Epoch 00027: saving model to /content/drive/My Drive/Luan Van 2019/Tumor/weights/weight_unet/last_weight_unet_ver2.hdf5\n",
      "3000/3000 [==============================] - 781s 260ms/step - loss: 0.2139 - VOE: 0.3308 - DICE: 0.7861 - binary_accuracy: 0.9891 - val_loss: 0.4119 - val_VOE: 0.5434 - val_DICE: 0.5881 - val_binary_accuracy: 0.9765\n",
      "Epoch 28/50\n",
      "2999/3000 [============================>.] - ETA: 0s - loss: 0.2047 - VOE: 0.3205 - DICE: 0.7953 - binary_accuracy: 0.9900Epoch 1/50\n",
      " 720/3000 [======>.......................] - ETA: 2:47 - loss: 0.4306 - VOE: 0.5598 - DICE: 0.5694 - binary_accuracy: 0.9761\n",
      "Epoch 00028: loss improved from 0.21148 to 0.20463, saving model to /content/drive/My Drive/Luan Van 2019/Tumor/weights/weight_unet/best_loss_unet_ver2.hdf5\n",
      "\n",
      "Epoch 00028: val_loss did not improve from 0.40931\n",
      "\n",
      "Epoch 00028: saving model to /content/drive/My Drive/Luan Van 2019/Tumor/weights/weight_unet/last_weight_unet_ver2.hdf5\n",
      "3000/3000 [==============================] - 785s 262ms/step - loss: 0.2046 - VOE: 0.3205 - DICE: 0.7954 - binary_accuracy: 0.9900 - val_loss: 0.4306 - val_VOE: 0.5598 - val_DICE: 0.5694 - val_binary_accuracy: 0.9761\n",
      "Epoch 29/50\n",
      "2999/3000 [============================>.] - ETA: 0s - loss: 0.1996 - VOE: 0.3144 - DICE: 0.8004 - binary_accuracy: 0.9901Epoch 1/50\n",
      " 720/3000 [======>.......................] - ETA: 2:45 - loss: 0.4631 - VOE: 0.5868 - DICE: 0.5369 - binary_accuracy: 0.9767\n",
      "Epoch 00029: loss improved from 0.20463 to 0.19963, saving model to /content/drive/My Drive/Luan Van 2019/Tumor/weights/weight_unet/best_loss_unet_ver2.hdf5\n",
      "\n",
      "Epoch 00029: val_loss did not improve from 0.40931\n",
      "\n",
      "Epoch 00029: saving model to /content/drive/My Drive/Luan Van 2019/Tumor/weights/weight_unet/last_weight_unet_ver2.hdf5\n",
      "3000/3000 [==============================] - 782s 261ms/step - loss: 0.1996 - VOE: 0.3144 - DICE: 0.8004 - binary_accuracy: 0.9902 - val_loss: 0.4631 - val_VOE: 0.5868 - val_DICE: 0.5369 - val_binary_accuracy: 0.9767\n",
      "Epoch 30/50\n",
      "2999/3000 [============================>.] - ETA: 0s - loss: 0.2092 - VOE: 0.3255 - DICE: 0.7908 - binary_accuracy: 0.9898Epoch 1/50\n",
      " 720/3000 [======>.......................] - ETA: 2:46 - loss: 0.4288 - VOE: 0.5535 - DICE: 0.5712 - binary_accuracy: 0.9787\n",
      "Epoch 00030: loss did not improve from 0.19963\n",
      "\n",
      "Epoch 00030: val_loss did not improve from 0.40931\n",
      "\n",
      "Epoch 00030: saving model to /content/drive/My Drive/Luan Van 2019/Tumor/weights/weight_unet/last_weight_unet_ver2.hdf5\n",
      "3000/3000 [==============================] - 781s 260ms/step - loss: 0.2092 - VOE: 0.3255 - DICE: 0.7909 - binary_accuracy: 0.9898 - val_loss: 0.4288 - val_VOE: 0.5535 - val_DICE: 0.5712 - val_binary_accuracy: 0.9787\n",
      "Epoch 31/50\n",
      "2999/3000 [============================>.] - ETA: 0s - loss: 0.2019 - VOE: 0.3155 - DICE: 0.7981 - binary_accuracy: 0.9898Epoch 1/50\n",
      " 720/3000 [======>.......................] - ETA: 2:45 - loss: 0.4230 - VOE: 0.5518 - DICE: 0.5770 - binary_accuracy: 0.9794\n",
      "Epoch 00031: loss did not improve from 0.19963\n",
      "\n",
      "Epoch 00031: val_loss did not improve from 0.40931\n",
      "\n",
      "Epoch 00031: saving model to /content/drive/My Drive/Luan Van 2019/Tumor/weights/weight_unet/last_weight_unet_ver2.hdf5\n",
      "3000/3000 [==============================] - 783s 261ms/step - loss: 0.2019 - VOE: 0.3156 - DICE: 0.7981 - binary_accuracy: 0.9898 - val_loss: 0.4230 - val_VOE: 0.5518 - val_DICE: 0.5770 - val_binary_accuracy: 0.9794\n",
      "Epoch 32/50\n",
      "2999/3000 [============================>.] - ETA: 0s - loss: 0.2037 - VOE: 0.3182 - DICE: 0.7963 - binary_accuracy: 0.9902Epoch 1/50\n",
      " 720/3000 [======>.......................] - ETA: 2:44 - loss: 0.4333 - VOE: 0.5617 - DICE: 0.5667 - binary_accuracy: 0.9760\n",
      "Epoch 00032: loss did not improve from 0.19963\n",
      "\n",
      "Epoch 00032: val_loss did not improve from 0.40931\n",
      "\n",
      "Epoch 00032: saving model to /content/drive/My Drive/Luan Van 2019/Tumor/weights/weight_unet/last_weight_unet_ver2.hdf5\n",
      "3000/3000 [==============================] - 784s 261ms/step - loss: 0.2037 - VOE: 0.3182 - DICE: 0.7963 - binary_accuracy: 0.9902 - val_loss: 0.4333 - val_VOE: 0.5617 - val_DICE: 0.5667 - val_binary_accuracy: 0.9760\n",
      "Epoch 33/50\n",
      "2999/3000 [============================>.] - ETA: 0s - loss: 0.1982 - VOE: 0.3127 - DICE: 0.8018 - binary_accuracy: 0.9901Epoch 1/50\n",
      " 720/3000 [======>.......................] - ETA: 2:45 - loss: 0.4156 - VOE: 0.5433 - DICE: 0.5844 - binary_accuracy: 0.9768\n",
      "Epoch 00033: loss improved from 0.19963 to 0.19820, saving model to /content/drive/My Drive/Luan Van 2019/Tumor/weights/weight_unet/best_loss_unet_ver2.hdf5\n",
      "\n",
      "Epoch 00033: val_loss did not improve from 0.40931\n",
      "\n",
      "Epoch 00033: saving model to /content/drive/My Drive/Luan Van 2019/Tumor/weights/weight_unet/last_weight_unet_ver2.hdf5\n",
      "3000/3000 [==============================] - 786s 262ms/step - loss: 0.1982 - VOE: 0.3127 - DICE: 0.8018 - binary_accuracy: 0.9901 - val_loss: 0.4156 - val_VOE: 0.5433 - val_DICE: 0.5844 - val_binary_accuracy: 0.9768\n",
      "Epoch 34/50\n",
      "2999/3000 [============================>.] - ETA: 0s - loss: 0.1881 - VOE: 0.2996 - DICE: 0.8119 - binary_accuracy: 0.9899Epoch 1/50\n",
      " 720/3000 [======>.......................] - ETA: 2:44 - loss: 0.4194 - VOE: 0.5523 - DICE: 0.5806 - binary_accuracy: 0.9749\n",
      "Epoch 00034: loss improved from 0.19820 to 0.18817, saving model to /content/drive/My Drive/Luan Van 2019/Tumor/weights/weight_unet/best_loss_unet_ver2.hdf5\n",
      "\n",
      "Epoch 00034: val_loss did not improve from 0.40931\n",
      "\n",
      "Epoch 00034: saving model to /content/drive/My Drive/Luan Van 2019/Tumor/weights/weight_unet/last_weight_unet_ver2.hdf5\n",
      "3000/3000 [==============================] - 785s 262ms/step - loss: 0.1882 - VOE: 0.2996 - DICE: 0.8118 - binary_accuracy: 0.9899 - val_loss: 0.4194 - val_VOE: 0.5523 - val_DICE: 0.5806 - val_binary_accuracy: 0.9749\n",
      "Epoch 35/50\n",
      "2999/3000 [============================>.] - ETA: 0s - loss: 0.1995 - VOE: 0.3139 - DICE: 0.8005 - binary_accuracy: 0.9906Epoch 1/50\n",
      " 720/3000 [======>.......................] - ETA: 2:45 - loss: 0.4788 - VOE: 0.6009 - DICE: 0.5212 - binary_accuracy: 0.9755\n",
      "Epoch 00035: loss did not improve from 0.18817\n",
      "\n",
      "Epoch 00035: val_loss did not improve from 0.40931\n",
      "\n",
      "Epoch 00035: saving model to /content/drive/My Drive/Luan Van 2019/Tumor/weights/weight_unet/last_weight_unet_ver2.hdf5\n",
      "3000/3000 [==============================] - 780s 260ms/step - loss: 0.1995 - VOE: 0.3139 - DICE: 0.8005 - binary_accuracy: 0.9906 - val_loss: 0.4788 - val_VOE: 0.6009 - val_DICE: 0.5212 - val_binary_accuracy: 0.9755\n",
      "Epoch 36/50\n",
      "2790/3000 [==========================>...] - ETA: 50s - loss: 0.1905 - VOE: 0.3035 - DICE: 0.8095 - binary_accuracy: 0.9903"
     ]
    }
   ],
   "source": [
    "model.fit_generator(generator=training_generator,\n",
    "                        steps_per_epoch=steps_per_epoch,\n",
    "                        epochs=n_epochs,\n",
    "                        validation_data=validation_generator,\n",
    "                        validation_steps=validation_steps,\n",
    "                        callbacks=call_backs)"
   ]
  },
  {
   "cell_type": "code",
   "execution_count": 0,
   "metadata": {
    "colab": {},
    "colab_type": "code",
    "id": "1r9qiJ4eSJkv"
   },
   "outputs": [],
   "source": []
  }
 ],
 "metadata": {
  "accelerator": "GPU",
  "colab": {
   "collapsed_sections": [],
   "name": "Unet3D_LITS2017_training.ipynb",
   "provenance": []
  },
  "kernelspec": {
   "display_name": "Python 3",
   "language": "python",
   "name": "python3"
  },
  "language_info": {
   "codemirror_mode": {
    "name": "ipython",
    "version": 3
   },
   "file_extension": ".py",
   "mimetype": "text/x-python",
   "name": "python",
   "nbconvert_exporter": "python",
   "pygments_lexer": "ipython3",
   "version": "3.7.0"
  }
 },
 "nbformat": 4,
 "nbformat_minor": 1
}
