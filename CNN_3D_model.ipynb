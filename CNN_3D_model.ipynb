{
 "cells": [
  {
   "cell_type": "markdown",
   "metadata": {
    "colab_type": "text",
    "id": "JfOw5hXCpaIr"
   },
   "source": [
    "# 1.Import library"
   ]
  },
  {
   "cell_type": "code",
   "execution_count": 1,
   "metadata": {
    "colab": {
     "base_uri": "https://localhost:8080/",
     "height": 122
    },
    "colab_type": "code",
    "executionInfo": {
     "elapsed": 52470,
     "status": "ok",
     "timestamp": 1577210183125,
     "user": {
      "displayName": "Anh Kiệt Trần",
      "photoUrl": "https://lh3.googleusercontent.com/a-/AAuE7mCm0idJmmBWlkXkquBiguFhQJbmieiKr6CylgTi=s64",
      "userId": "03604867749886055948"
     },
     "user_tz": -420
    },
    "id": "cwbigir1pUwB",
    "outputId": "64538e56-fd0a-49ad-d128-da6ae6b9a800"
   },
   "outputs": [],
   "source": [
    "# from google.colab import drive\n",
    "# drive.mount('/content/drive')\n",
    "# import sys\n",
    "# sys.path.append('/content/drive/My Drive/Luan Van 2019/Tumor/model/src')"
   ]
  },
  {
   "cell_type": "code",
   "execution_count": 3,
   "metadata": {},
   "outputs": [],
   "source": [
    "def avoid_warning():\n",
    "    \"\"\"Disable the warnings and tensorflow's warnings\"\"\"\n",
    "    try:\n",
    "        import warnings\n",
    "        warnings.filterwarnings('ignore')\n",
    "        warnings.filterwarnings('ignore', message='foo bar')\n",
    "        warnings.simplefilter(action='ignore', category=FutureWarning)\n",
    "        with warnings.catch_warnings():\n",
    "            # this will suppress all warnings in this block\n",
    "            warnings.simplefilter(\"ignore\")\n",
    "\n",
    "        from silence_tensorflow import silence_tensorflow\n",
    "        silence_tensorflow()\n",
    "    except Exception as e:\n",
    "        pass"
   ]
  },
  {
   "cell_type": "code",
   "execution_count": 4,
   "metadata": {},
   "outputs": [],
   "source": [
    "avoid_warning()"
   ]
  },
  {
   "cell_type": "code",
   "execution_count": 5,
   "metadata": {
    "colab": {
     "base_uri": "https://localhost:8080/",
     "height": 80
    },
    "colab_type": "code",
    "executionInfo": {
     "elapsed": 8362,
     "status": "ok",
     "timestamp": 1577210187505,
     "user": {
      "displayName": "Anh Kiệt Trần",
      "photoUrl": "https://lh3.googleusercontent.com/a-/AAuE7mCm0idJmmBWlkXkquBiguFhQJbmieiKr6CylgTi=s64",
      "userId": "03604867749886055948"
     },
     "user_tz": -420
    },
    "id": "C0PA1m_6NjNl",
    "outputId": "b5e45dd9-45d9-4c60-e4da-9d1125264656",
    "scrolled": true
   },
   "outputs": [],
   "source": [
    "from util.npy_generator import *\n",
    "from util.metrics import *"
   ]
  },
  {
   "cell_type": "code",
   "execution_count": 7,
   "metadata": {
    "colab": {},
    "colab_type": "code",
    "id": "W7SZU30UNkGJ"
   },
   "outputs": [],
   "source": [
    "from tensorflow.keras.callbacks import ModelCheckpoint, ReduceLROnPlateau, EarlyStopping, CSVLogger, TensorBoard\n",
    "from tensorflow.keras.optimizers import Adam\n",
    "from tensorflow.keras.losses import binary_crossentropy\n",
    "from tensorflow.keras.metrics import binary_accuracy\n",
    "from model import cnn"
   ]
  },
  {
   "cell_type": "markdown",
   "metadata": {
    "colab_type": "text",
    "id": "abv2_j24pkdz"
   },
   "source": [
    "# 2. Setting model"
   ]
  },
  {
   "cell_type": "markdown",
   "metadata": {
    "colab_type": "text",
    "id": "HMJVVxPHp4WY"
   },
   "source": [
    "### 2.1 Create model"
   ]
  },
  {
   "cell_type": "code",
   "execution_count": 9,
   "metadata": {
    "colab": {
     "base_uri": "https://localhost:8080/",
     "height": 88
    },
    "colab_type": "code",
    "executionInfo": {
     "elapsed": 2237,
     "status": "ok",
     "timestamp": 1577210190086,
     "user": {
      "displayName": "Anh Kiệt Trần",
      "photoUrl": "https://lh3.googleusercontent.com/a-/AAuE7mCm0idJmmBWlkXkquBiguFhQJbmieiKr6CylgTi=s64",
      "userId": "03604867749886055948"
     },
     "user_tz": -420
    },
    "id": "9Nv3N9OBpe76",
    "outputId": "c67ce7c3-25d8-4aac-cb53-a4c09d42238e"
   },
   "outputs": [],
   "source": [
    "input_size = (128, 128, 128)\n",
    "batch_size = 16\n",
    "model = cnn.CNN(size=input_size, regularizer_scale=1e-4,base_n_filter = 16, output_activation_name='sigmoid', is_training = True,checkpoint_path = None)"
   ]
  },
  {
   "cell_type": "code",
   "execution_count": 10,
   "metadata": {
    "colab": {
     "base_uri": "https://localhost:8080/",
     "height": 1000
    },
    "colab_type": "code",
    "executionInfo": {
     "elapsed": 1590,
     "status": "ok",
     "timestamp": 1577210190088,
     "user": {
      "displayName": "Anh Kiệt Trần",
      "photoUrl": "https://lh3.googleusercontent.com/a-/AAuE7mCm0idJmmBWlkXkquBiguFhQJbmieiKr6CylgTi=s64",
      "userId": "03604867749886055948"
     },
     "user_tz": -420
    },
    "id": "PZBtEbGwN1iT",
    "outputId": "be363677-fa34-4a32-9f83-c23376e56701"
   },
   "outputs": [
    {
     "name": "stdout",
     "output_type": "stream",
     "text": [
      "Model: \"model_2\"\n",
      "__________________________________________________________________________________________________\n",
      "Layer (type)                    Output Shape         Param #     Connected to                     \n",
      "==================================================================================================\n",
      "input_2 (InputLayer)            [(None, 128, 128, 12 0                                            \n",
      "__________________________________________________________________________________________________\n",
      "conv3d_9 (Conv3D)               (None, 128, 128, 128 448         input_2[0][0]                    \n",
      "__________________________________________________________________________________________________\n",
      "batch_normalization_9 (BatchNor (None, 128, 128, 128 64          conv3d_9[0][0]                   \n",
      "__________________________________________________________________________________________________\n",
      "elu_9 (ELU)                     (None, 128, 128, 128 0           batch_normalization_9[0][0]      \n",
      "__________________________________________________________________________________________________\n",
      "max_pooling3d_4 (MaxPooling3D)  (None, 64, 64, 64, 1 0           elu_9[0][0]                      \n",
      "__________________________________________________________________________________________________\n",
      "conv3d_10 (Conv3D)              (None, 64, 64, 64, 3 13856       max_pooling3d_4[0][0]            \n",
      "__________________________________________________________________________________________________\n",
      "batch_normalization_10 (BatchNo (None, 64, 64, 64, 3 128         conv3d_10[0][0]                  \n",
      "__________________________________________________________________________________________________\n",
      "elu_10 (ELU)                    (None, 64, 64, 64, 3 0           batch_normalization_10[0][0]     \n",
      "__________________________________________________________________________________________________\n",
      "conv3d_11 (Conv3D)              (None, 64, 64, 64, 3 27680       elu_10[0][0]                     \n",
      "__________________________________________________________________________________________________\n",
      "batch_normalization_11 (BatchNo (None, 64, 64, 64, 3 128         conv3d_11[0][0]                  \n",
      "__________________________________________________________________________________________________\n",
      "elu_11 (ELU)                    (None, 64, 64, 64, 3 0           batch_normalization_11[0][0]     \n",
      "__________________________________________________________________________________________________\n",
      "max_pooling3d_5 (MaxPooling3D)  (None, 32, 32, 32, 3 0           elu_11[0][0]                     \n",
      "__________________________________________________________________________________________________\n",
      "conv3d_12 (Conv3D)              (None, 32, 32, 32, 6 55360       max_pooling3d_5[0][0]            \n",
      "__________________________________________________________________________________________________\n",
      "batch_normalization_12 (BatchNo (None, 32, 32, 32, 6 256         conv3d_12[0][0]                  \n",
      "__________________________________________________________________________________________________\n",
      "elu_12 (ELU)                    (None, 32, 32, 32, 6 0           batch_normalization_12[0][0]     \n",
      "__________________________________________________________________________________________________\n",
      "conv3d_13 (Conv3D)              (None, 32, 32, 32, 6 110656      elu_12[0][0]                     \n",
      "__________________________________________________________________________________________________\n",
      "batch_normalization_13 (BatchNo (None, 32, 32, 32, 6 256         conv3d_13[0][0]                  \n",
      "__________________________________________________________________________________________________\n",
      "elu_13 (ELU)                    (None, 32, 32, 32, 6 0           batch_normalization_13[0][0]     \n",
      "__________________________________________________________________________________________________\n",
      "max_pooling3d_6 (MaxPooling3D)  (None, 16, 16, 16, 6 0           elu_13[0][0]                     \n",
      "__________________________________________________________________________________________________\n",
      "conv3d_14 (Conv3D)              (None, 16, 16, 16, 1 221312      max_pooling3d_6[0][0]            \n",
      "__________________________________________________________________________________________________\n",
      "batch_normalization_14 (BatchNo (None, 16, 16, 16, 1 512         conv3d_14[0][0]                  \n",
      "__________________________________________________________________________________________________\n",
      "elu_14 (ELU)                    (None, 16, 16, 16, 1 0           batch_normalization_14[0][0]     \n",
      "__________________________________________________________________________________________________\n",
      "conv3d_15 (Conv3D)              (None, 16, 16, 16, 1 442496      elu_14[0][0]                     \n",
      "__________________________________________________________________________________________________\n",
      "batch_normalization_15 (BatchNo (None, 16, 16, 16, 1 512         conv3d_15[0][0]                  \n",
      "__________________________________________________________________________________________________\n",
      "elu_15 (ELU)                    (None, 16, 16, 16, 1 0           batch_normalization_15[0][0]     \n",
      "__________________________________________________________________________________________________\n",
      "max_pooling3d_7 (MaxPooling3D)  (None, 8, 8, 8, 128) 0           elu_15[0][0]                     \n",
      "__________________________________________________________________________________________________\n",
      "conv3d_16 (Conv3D)              (None, 8, 8, 8, 256) 884992      max_pooling3d_7[0][0]            \n",
      "__________________________________________________________________________________________________\n",
      "batch_normalization_16 (BatchNo (None, 8, 8, 8, 256) 1024        conv3d_16[0][0]                  \n",
      "__________________________________________________________________________________________________\n",
      "elu_16 (ELU)                    (None, 8, 8, 8, 256) 0           batch_normalization_16[0][0]     \n",
      "__________________________________________________________________________________________________\n",
      "conv3d_17 (Conv3D)              (None, 8, 8, 8, 256) 1769728     elu_16[0][0]                     \n",
      "__________________________________________________________________________________________________\n",
      "batch_normalization_17 (BatchNo (None, 8, 8, 8, 256) 1024        conv3d_17[0][0]                  \n",
      "__________________________________________________________________________________________________\n",
      "elu_17 (ELU)                    (None, 8, 8, 8, 256) 0           batch_normalization_17[0][0]     \n",
      "__________________________________________________________________________________________________\n",
      "conv3d_transpose_10 (Conv3DTran (None, 16, 16, 16, 1 262272      elu_17[0][0]                     \n",
      "__________________________________________________________________________________________________\n",
      "conv3d_transpose_11 (Conv3DTran (None, 32, 32, 32, 6 65600       conv3d_transpose_10[0][0]        \n",
      "__________________________________________________________________________________________________\n",
      "conv3d_transpose_17 (Conv3DTran (None, 32, 32, 32, 6 65600       elu_15[0][0]                     \n",
      "__________________________________________________________________________________________________\n",
      "conv3d_transpose_12 (Conv3DTran (None, 64, 64, 64, 3 16416       conv3d_transpose_11[0][0]        \n",
      "__________________________________________________________________________________________________\n",
      "conv3d_transpose_15 (Conv3DTran (None, 64, 64, 64, 6 32832       elu_13[0][0]                     \n",
      "__________________________________________________________________________________________________\n",
      "conv3d_transpose_18 (Conv3DTran (None, 64, 64, 64, 3 16416       conv3d_transpose_17[0][0]        \n",
      "__________________________________________________________________________________________________\n",
      "conv3d_transpose_13 (Conv3DTran (None, 128, 128, 128 4112        conv3d_transpose_12[0][0]        \n",
      "__________________________________________________________________________________________________\n",
      "conv3d_transpose_14 (Conv3DTran (None, 128, 128, 128 4112        elu_11[0][0]                     \n",
      "__________________________________________________________________________________________________\n",
      "conv3d_transpose_16 (Conv3DTran (None, 128, 128, 128 16416       conv3d_transpose_15[0][0]        \n",
      "__________________________________________________________________________________________________\n",
      "conv3d_transpose_19 (Conv3DTran (None, 128, 128, 128 4112        conv3d_transpose_18[0][0]        \n",
      "__________________________________________________________________________________________________\n",
      "score_main (Conv3D)             (None, 128, 128, 128 17          conv3d_transpose_13[0][0]        \n",
      "__________________________________________________________________________________________________\n",
      "score_aux1 (Conv3D)             (None, 128, 128, 128 17          conv3d_transpose_14[0][0]        \n",
      "__________________________________________________________________________________________________\n",
      "score_aux2 (Conv3D)             (None, 128, 128, 128 33          conv3d_transpose_16[0][0]        \n",
      "__________________________________________________________________________________________________\n",
      "score_aux3 (Conv3D)             (None, 128, 128, 128 17          conv3d_transpose_19[0][0]        \n",
      "==================================================================================================\n",
      "Total params: 4,018,404\n",
      "Trainable params: 4,016,452\n",
      "Non-trainable params: 1,952\n",
      "__________________________________________________________________________________________________\n"
     ]
    }
   ],
   "source": [
    "model.summary()"
   ]
  },
  {
   "cell_type": "markdown",
   "metadata": {
    "colab_type": "text",
    "id": "PMBIbjPdpuRx"
   },
   "source": [
    "### 2.2 Loss function"
   ]
  },
  {
   "cell_type": "code",
   "execution_count": 11,
   "metadata": {
    "colab": {},
    "colab_type": "code",
    "id": "up6oQvImXovW"
   },
   "outputs": [],
   "source": [
    "def Dice_loss(y_true,y_pred):\n",
    "    return 1.-DICE(y_true,y_pred)\n",
    "def DICE(y_true, y_pred, smooth=1.0):\n",
    "    y_true_f = K.flatten(y_true)\n",
    "    y_pred_f = K.flatten(y_pred)\n",
    "    intersection = K.sum(y_true_f * y_pred_f)\n",
    "    return (2. * intersection + smooth) / (K.sum(y_true_f) + K.sum(y_pred_f) + smooth)"
   ]
  },
  {
   "cell_type": "markdown",
   "metadata": {
    "colab_type": "text",
    "id": "GB_f9ZapqBgL"
   },
   "source": [
    "### 2.3 Setting loss, optimizer, metricts"
   ]
  },
  {
   "cell_type": "code",
   "execution_count": 14,
   "metadata": {
    "colab": {
     "base_uri": "https://localhost:8080/",
     "height": 51
    },
    "colab_type": "code",
    "executionInfo": {
     "elapsed": 9982,
     "status": "ok",
     "timestamp": 1576507633846,
     "user": {
      "displayName": "KIỆT Trần Anh",
      "photoUrl": "",
      "userId": "16667684207170386261"
     },
     "user_tz": -420
    },
    "id": "GS20HBeoOVgj",
    "outputId": "655f65ea-d4ca-4fdd-dc00-8158f03b250a"
   },
   "outputs": [
    {
     "name": "stdout",
     "output_type": "stream",
     "text": [
      "steps_per_epoch:  750\n",
      "validation_steps:  90\n"
     ]
    }
   ],
   "source": [
    "n_epochs = 100\n",
    "learning_rate = 1e-5\n",
    "early_stopping_patience = 9\n",
    "steps_per_epoch = 50*240//batch_size\n",
    "validation_steps = 6*240//batch_size\n",
    "# checkpoint_best_valloss_path = \"/content/drive/My Drive/Luan Van 2019/Tumor/weights/weights_model14/best_valid_model14_t2.hdf5\"\n",
    "# checkpoint_best_last_path = \"/content/drive/My Drive/Luan Van 2019/Tumor/weights/weights_model14/last_model14.hdf5\"\n",
    "print('steps_per_epoch: ', steps_per_epoch)\n",
    "print('validation_steps: ',validation_steps)\n",
    "# checkpoint_path = \"/content/drive/My Drive/Luan Van 2019/Tumor/weights/weights_model14/best_valid_model14.hdf5\"\n",
    "#model.load_weights(checkpoint_path)\n",
    "lossWeights = [8.0,1.0,2.0,4.0]\n",
    "\n",
    "model.compile(optimizer=Adam(lr=learning_rate), loss=Dice_loss, loss_weights = lossWeights,\n",
    "              metrics=[VOE ,DICE])"
   ]
  },
  {
   "cell_type": "markdown",
   "metadata": {
    "colab_type": "text",
    "id": "jJrkNk_Dqft4"
   },
   "source": [
    "### 2.4 Getting data"
   ]
  },
  {
   "cell_type": "code",
   "execution_count": 0,
   "metadata": {
    "colab": {
     "base_uri": "https://localhost:8080/",
     "height": 139
    },
    "colab_type": "code",
    "executionInfo": {
     "elapsed": 3835,
     "status": "ok",
     "timestamp": 1576507639294,
     "user": {
      "displayName": "KIỆT Trần Anh",
      "photoUrl": "",
      "userId": "16667684207170386261"
     },
     "user_tz": -420
    },
    "id": "5P617LlLOWuy",
    "outputId": "ce05ec3f-02c5-457a-f023-09656c310fff"
   },
   "outputs": [
    {
     "name": "stdout",
     "output_type": "stream",
     "text": [
      "Length of data train:  50\n",
      "Length of data test:  8\n",
      "['/content/drive/My Drive/Dataset2/data/data_4/train/scan-n0240-s64_64_64.part001.npy', '/content/drive/My Drive/Dataset2/data/data_4/train/scan-n0240-s64_64_64.part002.npy', '/content/drive/My Drive/Dataset2/data/data_4/train/scan-n0240-s64_64_64.part003.npy', '/content/drive/My Drive/Dataset2/data/data_4/train/scan-n0240-s64_64_64.part004.npy', '/content/drive/My Drive/Dataset2/data/data_4/train/scan-n0240-s64_64_64.part005.npy', '/content/drive/My Drive/Dataset2/data/data_4/train/scan-n0240-s64_64_64.part006.npy', '/content/drive/My Drive/Dataset2/data/data_4/train/scan-n0240-s64_64_64.part007.npy', '/content/drive/My Drive/Dataset2/data/data_4/train/scan-n0240-s64_64_64.part008.npy', '/content/drive/My Drive/Dataset2/data/data_4/train/scan-n0240-s64_64_64.part009.npy', '/content/drive/My Drive/Dataset2/data/data_4/train/scan-n0240-s64_64_64.part010.npy', '/content/drive/My Drive/Dataset2/data/data_4/train/scan-n0240-s64_64_64.part011.npy', '/content/drive/My Drive/Dataset2/data/data_4/train/scan-n0240-s64_64_64.part012.npy', '/content/drive/My Drive/Dataset2/data/data_4/train/scan-n0240-s64_64_64.part013.npy', '/content/drive/My Drive/Dataset2/data/data_4/train/scan-n0240-s64_64_64.part014.npy', '/content/drive/My Drive/Dataset2/data/data_4/train/scan-n0240-s64_64_64.part015.npy', '/content/drive/My Drive/Dataset2/data/data_4/train/scan-n0240-s64_64_64.part016.npy', '/content/drive/My Drive/Dataset2/data/data_4/train/scan-n0240-s64_64_64.part017.npy', '/content/drive/My Drive/Dataset2/data/data_4/train/scan-n0240-s64_64_64.part018.npy', '/content/drive/My Drive/Dataset2/data/data_4/train/scan-n0240-s64_64_64.part019.npy', '/content/drive/My Drive/Dataset2/data/data_4/train/scan-n0240-s64_64_64.part020.npy', '/content/drive/My Drive/Dataset2/data/data_4/train/scan-n0240-s64_64_64.part021.npy', '/content/drive/My Drive/Dataset2/data/data_4/train/scan-n0240-s64_64_64.part022.npy', '/content/drive/My Drive/Dataset2/data/data_4/train/scan-n0240-s64_64_64.part023.npy', '/content/drive/My Drive/Dataset2/data/data_4/train/scan-n0240-s64_64_64.part024.npy', '/content/drive/My Drive/Dataset2/data/data_4/train/scan-n0240-s64_64_64.part025.npy', '/content/drive/My Drive/Dataset2/data/data_4/train/scan-n0240-s64_64_64.part026.npy', '/content/drive/My Drive/Dataset2/data/data_4/train/scan-n0240-s64_64_64.part027.npy', '/content/drive/My Drive/Dataset2/data/data_4/train/scan-n0240-s64_64_64.part028.npy', '/content/drive/My Drive/Dataset2/data/data_4/train/scan-n0240-s64_64_64.part029.npy', '/content/drive/My Drive/Dataset2/data/data_4/train/scan-n0240-s64_64_64.part030.npy', '/content/drive/My Drive/Dataset2/data/data_4/train/scan-n0240-s64_64_64.part031.npy', '/content/drive/My Drive/Dataset2/data/data_4/train/scan-n0240-s64_64_64.part032.npy', '/content/drive/My Drive/Dataset2/data/data_4/train/scan-n0240-s64_64_64.part033.npy', '/content/drive/My Drive/Dataset2/data/data_4/train/scan-n0240-s64_64_64.part034.npy', '/content/drive/My Drive/Dataset2/data/data_4/train/scan-n0240-s64_64_64.part035.npy', '/content/drive/My Drive/Dataset2/data/data_4/train/scan-n0240-s64_64_64.part036.npy', '/content/drive/My Drive/Dataset2/data/data_4/train/scan-n0240-s64_64_64.part037.npy', '/content/drive/My Drive/Dataset2/data/data_4/train/scan-n0240-s64_64_64.part038.npy', '/content/drive/My Drive/Dataset2/data/data_4/train/scan-n0240-s64_64_64.part039.npy', '/content/drive/My Drive/Dataset2/data/data_4/train/scan-n0240-s64_64_64.part040.npy', '/content/drive/My Drive/Dataset2/data/data_4/train/scan-n0240-s64_64_64.part041.npy', '/content/drive/My Drive/Dataset2/data/data_4/train/scan-n0240-s64_64_64.part042.npy', '/content/drive/My Drive/Dataset2/data/data_4/train/scan-n0240-s64_64_64.part043.npy', '/content/drive/My Drive/Dataset2/data/data_4/train/scan-n0240-s64_64_64.part044.npy', '/content/drive/My Drive/Dataset2/data/data_4/train/scan-n0240-s64_64_64.part045.npy', '/content/drive/My Drive/Dataset2/data/data_4/train/scan-n0240-s64_64_64.part046.npy', '/content/drive/My Drive/Dataset2/data/data_4/train/scan-n0240-s64_64_64.part047.npy', '/content/drive/My Drive/Dataset2/data/data_4/train/scan-n0240-s64_64_64.part048.npy', '/content/drive/My Drive/Dataset2/data/data_4/train/scan-n0240-s64_64_64.part049.npy', '/content/drive/My Drive/Dataset2/data/data_4/train/scan-n0240-s64_64_64.part050.npy']\n",
      "['/content/drive/My Drive/Dataset2/data/data_4/train/gt-n0240-s64_64_64.part001.npy', '/content/drive/My Drive/Dataset2/data/data_4/train/gt-n0240-s64_64_64.part002.npy', '/content/drive/My Drive/Dataset2/data/data_4/train/gt-n0240-s64_64_64.part003.npy', '/content/drive/My Drive/Dataset2/data/data_4/train/gt-n0240-s64_64_64.part004.npy', '/content/drive/My Drive/Dataset2/data/data_4/train/gt-n0240-s64_64_64.part005.npy', '/content/drive/My Drive/Dataset2/data/data_4/train/gt-n0240-s64_64_64.part006.npy', '/content/drive/My Drive/Dataset2/data/data_4/train/gt-n0240-s64_64_64.part007.npy', '/content/drive/My Drive/Dataset2/data/data_4/train/gt-n0240-s64_64_64.part008.npy', '/content/drive/My Drive/Dataset2/data/data_4/train/gt-n0240-s64_64_64.part009.npy', '/content/drive/My Drive/Dataset2/data/data_4/train/gt-n0240-s64_64_64.part010.npy', '/content/drive/My Drive/Dataset2/data/data_4/train/gt-n0240-s64_64_64.part011.npy', '/content/drive/My Drive/Dataset2/data/data_4/train/gt-n0240-s64_64_64.part012.npy', '/content/drive/My Drive/Dataset2/data/data_4/train/gt-n0240-s64_64_64.part013.npy', '/content/drive/My Drive/Dataset2/data/data_4/train/gt-n0240-s64_64_64.part014.npy', '/content/drive/My Drive/Dataset2/data/data_4/train/gt-n0240-s64_64_64.part015.npy', '/content/drive/My Drive/Dataset2/data/data_4/train/gt-n0240-s64_64_64.part016.npy', '/content/drive/My Drive/Dataset2/data/data_4/train/gt-n0240-s64_64_64.part017.npy', '/content/drive/My Drive/Dataset2/data/data_4/train/gt-n0240-s64_64_64.part018.npy', '/content/drive/My Drive/Dataset2/data/data_4/train/gt-n0240-s64_64_64.part019.npy', '/content/drive/My Drive/Dataset2/data/data_4/train/gt-n0240-s64_64_64.part020.npy', '/content/drive/My Drive/Dataset2/data/data_4/train/gt-n0240-s64_64_64.part021.npy', '/content/drive/My Drive/Dataset2/data/data_4/train/gt-n0240-s64_64_64.part022.npy', '/content/drive/My Drive/Dataset2/data/data_4/train/gt-n0240-s64_64_64.part023.npy', '/content/drive/My Drive/Dataset2/data/data_4/train/gt-n0240-s64_64_64.part024.npy', '/content/drive/My Drive/Dataset2/data/data_4/train/gt-n0240-s64_64_64.part025.npy', '/content/drive/My Drive/Dataset2/data/data_4/train/gt-n0240-s64_64_64.part026.npy', '/content/drive/My Drive/Dataset2/data/data_4/train/gt-n0240-s64_64_64.part027.npy', '/content/drive/My Drive/Dataset2/data/data_4/train/gt-n0240-s64_64_64.part028.npy', '/content/drive/My Drive/Dataset2/data/data_4/train/gt-n0240-s64_64_64.part029.npy', '/content/drive/My Drive/Dataset2/data/data_4/train/gt-n0240-s64_64_64.part030.npy', '/content/drive/My Drive/Dataset2/data/data_4/train/gt-n0240-s64_64_64.part031.npy', '/content/drive/My Drive/Dataset2/data/data_4/train/gt-n0240-s64_64_64.part032.npy', '/content/drive/My Drive/Dataset2/data/data_4/train/gt-n0240-s64_64_64.part033.npy', '/content/drive/My Drive/Dataset2/data/data_4/train/gt-n0240-s64_64_64.part034.npy', '/content/drive/My Drive/Dataset2/data/data_4/train/gt-n0240-s64_64_64.part035.npy', '/content/drive/My Drive/Dataset2/data/data_4/train/gt-n0240-s64_64_64.part036.npy', '/content/drive/My Drive/Dataset2/data/data_4/train/gt-n0240-s64_64_64.part037.npy', '/content/drive/My Drive/Dataset2/data/data_4/train/gt-n0240-s64_64_64.part038.npy', '/content/drive/My Drive/Dataset2/data/data_4/train/gt-n0240-s64_64_64.part039.npy', '/content/drive/My Drive/Dataset2/data/data_4/train/gt-n0240-s64_64_64.part040.npy', '/content/drive/My Drive/Dataset2/data/data_4/train/gt-n0240-s64_64_64.part041.npy', '/content/drive/My Drive/Dataset2/data/data_4/train/gt-n0240-s64_64_64.part042.npy', '/content/drive/My Drive/Dataset2/data/data_4/train/gt-n0240-s64_64_64.part043.npy', '/content/drive/My Drive/Dataset2/data/data_4/train/gt-n0240-s64_64_64.part044.npy', '/content/drive/My Drive/Dataset2/data/data_4/train/gt-n0240-s64_64_64.part045.npy', '/content/drive/My Drive/Dataset2/data/data_4/train/gt-n0240-s64_64_64.part046.npy', '/content/drive/My Drive/Dataset2/data/data_4/train/gt-n0240-s64_64_64.part047.npy', '/content/drive/My Drive/Dataset2/data/data_4/train/gt-n0240-s64_64_64.part048.npy', '/content/drive/My Drive/Dataset2/data/data_4/train/gt-n0240-s64_64_64.part049.npy', '/content/drive/My Drive/Dataset2/data/data_4/train/gt-n0240-s64_64_64.part050.npy']\n",
      "['/content/drive/My Drive/Dataset2/data/data_4/valid/scan-n0240-s64_64_64.part001.npy', '/content/drive/My Drive/Dataset2/data/data_4/valid/scan-n0240-s64_64_64.part002.npy', '/content/drive/My Drive/Dataset2/data/data_4/valid/scan-n0240-s64_64_64.part003.npy', '/content/drive/My Drive/Dataset2/data/data_4/valid/scan-n0240-s64_64_64.part004.npy', '/content/drive/My Drive/Dataset2/data/data_4/valid/scan-n0240-s64_64_64.part005.npy', '/content/drive/My Drive/Dataset2/data/data_4/valid/scan-n0240-s64_64_64.part006.npy', '/content/drive/My Drive/Dataset2/data/data_4/valid/scan-n0240-s64_64_64.part007.npy', '/content/drive/My Drive/Dataset2/data/data_4/valid/scan-n0240-s64_64_64.part008.npy']\n",
      "['/content/drive/My Drive/Dataset2/data/data_4/valid/gt-n0240-s64_64_64.part001.npy', '/content/drive/My Drive/Dataset2/data/data_4/valid/gt-n0240-s64_64_64.part002.npy', '/content/drive/My Drive/Dataset2/data/data_4/valid/gt-n0240-s64_64_64.part003.npy', '/content/drive/My Drive/Dataset2/data/data_4/valid/gt-n0240-s64_64_64.part004.npy', '/content/drive/My Drive/Dataset2/data/data_4/valid/gt-n0240-s64_64_64.part005.npy', '/content/drive/My Drive/Dataset2/data/data_4/valid/gt-n0240-s64_64_64.part006.npy', '/content/drive/My Drive/Dataset2/data/data_4/valid/gt-n0240-s64_64_64.part007.npy', '/content/drive/My Drive/Dataset2/data/data_4/valid/gt-n0240-s64_64_64.part008.npy']\n"
     ]
    }
   ],
   "source": [
    "import glob\n",
    "X_train = glob.glob(r'/content/drive/My Drive/Dataset2/data/data_4/train/scan*')\n",
    "y_train = glob.glob(r'/content/drive/My Drive/Dataset2/data/data_4/train/gt*')\n",
    "X_val = glob.glob(r'/content/drive/My Drive/Dataset2/data/data_4/valid/scan*')\n",
    "y_val = glob.glob(r'/content/drive/My Drive/Dataset2/data/data_4/valid/gt*')\n",
    "X_train.sort()\n",
    "y_train.sort()\n",
    "X_val.sort()\n",
    "y_val.sort()\n",
    "\n",
    "print(\"Length of data train: \",len(X_train))\n",
    "print(\"Length of data test: \",len(X_val))\n",
    "\n",
    "print(X_train)\n",
    "print(y_train)\n",
    "print(X_val)\n",
    "print(y_val)"
   ]
  },
  {
   "cell_type": "markdown",
   "metadata": {
    "colab_type": "text",
    "id": "aI6pgJKnqppJ"
   },
   "source": [
    "Show several slice in sample"
   ]
  },
  {
   "cell_type": "code",
   "execution_count": 0,
   "metadata": {
    "colab": {},
    "colab_type": "code",
    "id": "Pl_Hc-OKtMbr"
   },
   "outputs": [],
   "source": [
    "print(X_train[5],\"|\",y_train[5])\n",
    "a=np.load(X_train[5])\n",
    "b=np.load(y_train[5])\n",
    "from matplotlib import pyplot as plt\n",
    "temp=0\n",
    "for i in range(32):\n",
    "  if b[154][:,:,i].max()==1:\n",
    "    temp=i\n",
    "    break\n",
    "d=(a[154][:,:,10])\n",
    "e=np.pad(d, [(150, 150), (150, 150)], mode='constant')\n",
    "plt.imshow(e,cmap=\"gray\")\n",
    "plt.show()\n",
    "\n",
    "plt.imshow(b[154][:,:,10],cmap=\"gray\")\n",
    "plt.show()\n",
    "plt.imshow(a[154][:,:,10],cmap=\"gray\")\n",
    "plt.show()"
   ]
  },
  {
   "cell_type": "markdown",
   "metadata": {
    "colab_type": "text",
    "id": "VoE9TMRZqzQO"
   },
   "source": [
    "###2.5 Set data, callbacks"
   ]
  },
  {
   "cell_type": "code",
   "execution_count": 0,
   "metadata": {
    "colab": {},
    "colab_type": "code",
    "id": "V45CcVQ4OYJS"
   },
   "outputs": [],
   "source": [
    "training_generator = npy_generator(X_train,y_train, use_normalize = False, batch_size=batch_size, n_outputs = 4, subtract_mean = None,reshape = True)\n",
    "validation_generator = npy_generator(X_val,y_val, use_normalize = False, batch_size=batch_size, n_outputs = 4, subtract_mean = None,reshape = True)\n",
    "model_checkpoint_valloss = ModelCheckpoint(checkpoint_best_valloss_path, monitor='val_score_main_loss', verbose = 1, save_best_only=True)\n",
    "model_checkpoint_last = ModelCheckpoint(checkpoint_best_last_path, verbose = 1, save_best_only=False)\n",
    "learning_rate_plateau_loss = ReduceLROnPlateau(monitor='loss', factor=0.1, patience=n_epochs//2, verbose=0, mode='auto', min_delta=0.0001, cooldown=0, min_lr=1e-9)\n",
    "early_stopping = EarlyStopping(verbose = 1, patience=early_stopping_patience)\n",
    "logfile = \"/content/drive/My Drive/Luan Van 2019/Tumor/log/log_model14.csv\"\n",
    "csv_logger = CSVLogger(logfile, separator=',', append=True)\n",
    "call_backs = [ model_checkpoint_valloss,model_checkpoint_last ,learning_rate_plateau_loss,csv_logger, early_stopping]"
   ]
  },
  {
   "cell_type": "markdown",
   "metadata": {
    "colab_type": "text",
    "id": "lf_fEivBkAnu"
   },
   "source": [
    "# 3. Training\n",
    "\n",
    "\n",
    "\n",
    "1.   Model10: data test 4 (50 train,8 valid)\n",
    "2. Loss: Dice_loss\n",
    "\n"
   ]
  },
  {
   "cell_type": "code",
   "execution_count": 0,
   "metadata": {
    "colab": {
     "base_uri": "https://localhost:8080/",
     "height": 1000
    },
    "colab_type": "code",
    "executionInfo": {
     "elapsed": 4337376,
     "status": "ok",
     "timestamp": 1576512052483,
     "user": {
      "displayName": "KIỆT Trần Anh",
      "photoUrl": "",
      "userId": "16667684207170386261"
     },
     "user_tz": -420
    },
    "id": "-DsCWufwOZh7",
    "outputId": "20b533cd-7d34-4364-8b6b-c4eca81702c8"
   },
   "outputs": [
    {
     "name": "stdout",
     "output_type": "stream",
     "text": [
      "Epoch 1/100\n",
      "749/750 [============================>.] - ETA: 0s - loss: 4.2866 - score_main_loss: 0.2157 - score_aux1_loss: 0.6384 - score_aux2_loss: 0.4004 - score_aux3_loss: 0.2524 - score_main_VOE: 0.3439 - score_main_DICE: 0.7843 - score_aux1_VOE: 0.7602 - score_aux1_DICE: 0.3616 - score_aux2_VOE: 0.5588 - score_aux2_DICE: 0.5996 - score_aux3_VOE: 0.3918 - score_aux3_DICE: 0.7476Epoch 1/100\n",
      " 90/750 [==>...........................] - ETA: 5:57 - loss: 5.9834 - score_main_loss: 0.3635 - score_aux1_loss: 0.6710 - score_aux2_loss: 0.4334 - score_aux3_loss: 0.3563 - score_main_VOE: 0.5057 - score_main_DICE: 0.6365 - score_aux1_VOE: 0.7888 - score_aux1_DICE: 0.3290 - score_aux2_VOE: 0.5859 - score_aux2_DICE: 0.5666 - score_aux3_VOE: 0.4958 - score_aux3_DICE: 0.6437\n",
      "Epoch 00001: val_score_main_loss improved from inf to 0.36349, saving model to /content/drive/My Drive/Luan Van 2019/Tumor/weights/weights_model14/best_valid_model14_t2.hdf5\n",
      "\n",
      "Epoch 00001: saving model to /content/drive/My Drive/Luan Van 2019/Tumor/weights/weights_model14/last_model14.hdf5\n",
      "750/750 [==============================] - 619s 825ms/step - loss: 4.2852 - score_main_loss: 0.2156 - score_aux1_loss: 0.6381 - score_aux2_loss: 0.4002 - score_aux3_loss: 0.2523 - score_main_VOE: 0.3438 - score_main_DICE: 0.7844 - score_aux1_VOE: 0.7599 - score_aux1_DICE: 0.3619 - score_aux2_VOE: 0.5587 - score_aux2_DICE: 0.5998 - score_aux3_VOE: 0.3918 - score_aux3_DICE: 0.7477 - val_loss: 5.9834 - val_score_main_loss: 0.3635 - val_score_aux1_loss: 0.6710 - val_score_aux2_loss: 0.4334 - val_score_aux3_loss: 0.3563 - val_score_main_VOE: 0.5057 - val_score_main_DICE: 0.6365 - val_score_aux1_VOE: 0.7888 - val_score_aux1_DICE: 0.3290 - val_score_aux2_VOE: 0.5859 - val_score_aux2_DICE: 0.5666 - val_score_aux3_VOE: 0.4958 - val_score_aux3_DICE: 0.6437\n",
      "Epoch 2/100\n",
      "749/750 [============================>.] - ETA: 0s - loss: 4.2520 - score_main_loss: 0.2139 - score_aux1_loss: 0.6398 - score_aux2_loss: 0.3947 - score_aux3_loss: 0.2499 - score_main_VOE: 0.3410 - score_main_DICE: 0.7861 - score_aux1_VOE: 0.7619 - score_aux1_DICE: 0.3602 - score_aux2_VOE: 0.5518 - score_aux2_DICE: 0.6053 - score_aux3_VOE: 0.3875 - score_aux3_DICE: 0.7501Epoch 1/100\n",
      " 90/750 [==>...........................] - ETA: 3:44 - loss: 5.0341 - score_main_loss: 0.2920 - score_aux1_loss: 0.6905 - score_aux2_loss: 0.3875 - score_aux3_loss: 0.2801 - score_main_VOE: 0.4422 - score_main_DICE: 0.7080 - score_aux1_VOE: 0.8056 - score_aux1_DICE: 0.3095 - score_aux2_VOE: 0.5490 - score_aux2_DICE: 0.6125 - score_aux3_VOE: 0.4279 - score_aux3_DICE: 0.7199\n",
      "Epoch 00002: val_score_main_loss improved from 0.36349 to 0.29199, saving model to /content/drive/My Drive/Luan Van 2019/Tumor/weights/weights_model14/best_valid_model14_t2.hdf5\n",
      "\n",
      "Epoch 00002: saving model to /content/drive/My Drive/Luan Van 2019/Tumor/weights/weights_model14/last_model14.hdf5\n",
      "750/750 [==============================] - 301s 402ms/step - loss: 4.2530 - score_main_loss: 0.2140 - score_aux1_loss: 0.6399 - score_aux2_loss: 0.3948 - score_aux3_loss: 0.2499 - score_main_VOE: 0.3411 - score_main_DICE: 0.7860 - score_aux1_VOE: 0.7620 - score_aux1_DICE: 0.3601 - score_aux2_VOE: 0.5518 - score_aux2_DICE: 0.6052 - score_aux3_VOE: 0.3876 - score_aux3_DICE: 0.7501 - val_loss: 5.0341 - val_score_main_loss: 0.2920 - val_score_aux1_loss: 0.6905 - val_score_aux2_loss: 0.3875 - val_score_aux3_loss: 0.2801 - val_score_main_VOE: 0.4422 - val_score_main_DICE: 0.7080 - val_score_aux1_VOE: 0.8056 - val_score_aux1_DICE: 0.3095 - val_score_aux2_VOE: 0.5490 - val_score_aux2_DICE: 0.6125 - val_score_aux3_VOE: 0.4279 - val_score_aux3_DICE: 0.7199\n",
      "Epoch 3/100\n",
      "749/750 [============================>.] - ETA: 0s - loss: 4.1550 - score_main_loss: 0.2064 - score_aux1_loss: 0.6360 - score_aux2_loss: 0.3923 - score_aux3_loss: 0.2428 - score_main_VOE: 0.3320 - score_main_DICE: 0.7936 - score_aux1_VOE: 0.7587 - score_aux1_DICE: 0.3640 - score_aux2_VOE: 0.5493 - score_aux2_DICE: 0.6077 - score_aux3_VOE: 0.3800 - score_aux3_DICE: 0.7572Epoch 1/100\n",
      " 90/750 [==>...........................] - ETA: 1:48 - loss: 6.9819 - score_main_loss: 0.4324 - score_aux1_loss: 0.6758 - score_aux2_loss: 0.4984 - score_aux3_loss: 0.4344 - score_main_VOE: 0.5648 - score_main_DICE: 0.5676 - score_aux1_VOE: 0.7936 - score_aux1_DICE: 0.3242 - score_aux2_VOE: 0.6472 - score_aux2_DICE: 0.5016 - score_aux3_VOE: 0.5697 - score_aux3_DICE: 0.5656\n",
      "Epoch 00003: val_score_main_loss did not improve from 0.29199\n",
      "\n",
      "Epoch 00003: saving model to /content/drive/My Drive/Luan Van 2019/Tumor/weights/weights_model14/last_model14.hdf5\n",
      "750/750 [==============================] - 289s 385ms/step - loss: 4.1532 - score_main_loss: 0.2063 - score_aux1_loss: 0.6358 - score_aux2_loss: 0.3921 - score_aux3_loss: 0.2426 - score_main_VOE: 0.3319 - score_main_DICE: 0.7937 - score_aux1_VOE: 0.7586 - score_aux1_DICE: 0.3642 - score_aux2_VOE: 0.5491 - score_aux2_DICE: 0.6079 - score_aux3_VOE: 0.3799 - score_aux3_DICE: 0.7574 - val_loss: 6.9819 - val_score_main_loss: 0.4324 - val_score_aux1_loss: 0.6758 - val_score_aux2_loss: 0.4984 - val_score_aux3_loss: 0.4344 - val_score_main_VOE: 0.5648 - val_score_main_DICE: 0.5676 - val_score_aux1_VOE: 0.7936 - val_score_aux1_DICE: 0.3242 - val_score_aux2_VOE: 0.6472 - val_score_aux2_DICE: 0.5016 - val_score_aux3_VOE: 0.5697 - val_score_aux3_DICE: 0.5656\n",
      "Epoch 4/100\n",
      "749/750 [============================>.] - ETA: 0s - loss: 4.1260 - score_main_loss: 0.2050 - score_aux1_loss: 0.6363 - score_aux2_loss: 0.3880 - score_aux3_loss: 0.2405 - score_main_VOE: 0.3298 - score_main_DICE: 0.7950 - score_aux1_VOE: 0.7594 - score_aux1_DICE: 0.3637 - score_aux2_VOE: 0.5451 - score_aux2_DICE: 0.6120 - score_aux3_VOE: 0.3766 - score_aux3_DICE: 0.7595Epoch 1/100\n",
      " 90/750 [==>...........................] - ETA: 1:48 - loss: 5.6914 - score_main_loss: 0.3370 - score_aux1_loss: 0.6864 - score_aux2_loss: 0.4333 - score_aux3_loss: 0.3326 - score_main_VOE: 0.4871 - score_main_DICE: 0.6630 - score_aux1_VOE: 0.8019 - score_aux1_DICE: 0.3136 - score_aux2_VOE: 0.5898 - score_aux2_DICE: 0.5667 - score_aux3_VOE: 0.4834 - score_aux3_DICE: 0.6674\n",
      "Epoch 00004: val_score_main_loss did not improve from 0.29199\n",
      "\n",
      "Epoch 00004: saving model to /content/drive/My Drive/Luan Van 2019/Tumor/weights/weights_model14/last_model14.hdf5\n",
      "750/750 [==============================] - 286s 382ms/step - loss: 4.1247 - score_main_loss: 0.2049 - score_aux1_loss: 0.6364 - score_aux2_loss: 0.3879 - score_aux3_loss: 0.2404 - score_main_VOE: 0.3297 - score_main_DICE: 0.7951 - score_aux1_VOE: 0.7595 - score_aux1_DICE: 0.3636 - score_aux2_VOE: 0.5450 - score_aux2_DICE: 0.6121 - score_aux3_VOE: 0.3765 - score_aux3_DICE: 0.7596 - val_loss: 5.6914 - val_score_main_loss: 0.3370 - val_score_aux1_loss: 0.6864 - val_score_aux2_loss: 0.4333 - val_score_aux3_loss: 0.3326 - val_score_main_VOE: 0.4871 - val_score_main_DICE: 0.6630 - val_score_aux1_VOE: 0.8019 - val_score_aux1_DICE: 0.3136 - val_score_aux2_VOE: 0.5898 - val_score_aux2_DICE: 0.5667 - val_score_aux3_VOE: 0.4834 - val_score_aux3_DICE: 0.6674\n",
      "Epoch 5/100\n",
      "749/750 [============================>.] - ETA: 0s - loss: 4.1011 - score_main_loss: 0.2029 - score_aux1_loss: 0.6335 - score_aux2_loss: 0.3893 - score_aux3_loss: 0.2384 - score_main_VOE: 0.3269 - score_main_DICE: 0.7971 - score_aux1_VOE: 0.7575 - score_aux1_DICE: 0.3665 - score_aux2_VOE: 0.5462 - score_aux2_DICE: 0.6107 - score_aux3_VOE: 0.3737 - score_aux3_DICE: 0.7616Epoch 1/100\n",
      " 90/750 [==>...........................] - ETA: 1:47 - loss: 4.7898 - score_main_loss: 0.2739 - score_aux1_loss: 0.6705 - score_aux2_loss: 0.3715 - score_aux3_loss: 0.2683 - score_main_VOE: 0.4210 - score_main_DICE: 0.7261 - score_aux1_VOE: 0.7925 - score_aux1_DICE: 0.3295 - score_aux2_VOE: 0.5324 - score_aux2_DICE: 0.6285 - score_aux3_VOE: 0.4135 - score_aux3_DICE: 0.7317\n",
      "Epoch 00005: val_score_main_loss improved from 0.29199 to 0.27392, saving model to /content/drive/My Drive/Luan Van 2019/Tumor/weights/weights_model14/best_valid_model14_t2.hdf5\n",
      "\n",
      "Epoch 00005: saving model to /content/drive/My Drive/Luan Van 2019/Tumor/weights/weights_model14/last_model14.hdf5\n",
      "750/750 [==============================] - 286s 381ms/step - loss: 4.1025 - score_main_loss: 0.2031 - score_aux1_loss: 0.6332 - score_aux2_loss: 0.3893 - score_aux3_loss: 0.2385 - score_main_VOE: 0.3271 - score_main_DICE: 0.7969 - score_aux1_VOE: 0.7573 - score_aux1_DICE: 0.3668 - score_aux2_VOE: 0.5463 - score_aux2_DICE: 0.6107 - score_aux3_VOE: 0.3739 - score_aux3_DICE: 0.7615 - val_loss: 4.7898 - val_score_main_loss: 0.2739 - val_score_aux1_loss: 0.6705 - val_score_aux2_loss: 0.3715 - val_score_aux3_loss: 0.2683 - val_score_main_VOE: 0.4210 - val_score_main_DICE: 0.7261 - val_score_aux1_VOE: 0.7925 - val_score_aux1_DICE: 0.3295 - val_score_aux2_VOE: 0.5324 - val_score_aux2_DICE: 0.6285 - val_score_aux3_VOE: 0.4135 - val_score_aux3_DICE: 0.7317\n",
      "Epoch 6/100\n",
      "749/750 [============================>.] - ETA: 0s - loss: 4.0781 - score_main_loss: 0.2015 - score_aux1_loss: 0.6344 - score_aux2_loss: 0.3846 - score_aux3_loss: 0.2377 - score_main_VOE: 0.3258 - score_main_DICE: 0.7985 - score_aux1_VOE: 0.7585 - score_aux1_DICE: 0.3656 - score_aux2_VOE: 0.5422 - score_aux2_DICE: 0.6154 - score_aux3_VOE: 0.3736 - score_aux3_DICE: 0.7623Epoch 1/100\n",
      " 90/750 [==>...........................] - ETA: 1:43 - loss: 6.4254 - score_main_loss: 0.4042 - score_aux1_loss: 0.6627 - score_aux2_loss: 0.4406 - score_aux3_loss: 0.3841 - score_main_VOE: 0.5503 - score_main_DICE: 0.5958 - score_aux1_VOE: 0.7848 - score_aux1_DICE: 0.3373 - score_aux2_VOE: 0.5963 - score_aux2_DICE: 0.5594 - score_aux3_VOE: 0.5289 - score_aux3_DICE: 0.6159\n",
      "Epoch 00006: val_score_main_loss did not improve from 0.27392\n",
      "\n",
      "Epoch 00006: saving model to /content/drive/My Drive/Luan Van 2019/Tumor/weights/weights_model14/last_model14.hdf5\n",
      "750/750 [==============================] - 283s 377ms/step - loss: 4.0769 - score_main_loss: 0.2014 - score_aux1_loss: 0.6343 - score_aux2_loss: 0.3845 - score_aux3_loss: 0.2376 - score_main_VOE: 0.3257 - score_main_DICE: 0.7986 - score_aux1_VOE: 0.7585 - score_aux1_DICE: 0.3657 - score_aux2_VOE: 0.5420 - score_aux2_DICE: 0.6155 - score_aux3_VOE: 0.3735 - score_aux3_DICE: 0.7624 - val_loss: 6.4254 - val_score_main_loss: 0.4042 - val_score_aux1_loss: 0.6627 - val_score_aux2_loss: 0.4406 - val_score_aux3_loss: 0.3841 - val_score_main_VOE: 0.5503 - val_score_main_DICE: 0.5958 - val_score_aux1_VOE: 0.7848 - val_score_aux1_DICE: 0.3373 - val_score_aux2_VOE: 0.5963 - val_score_aux2_DICE: 0.5594 - val_score_aux3_VOE: 0.5289 - val_score_aux3_DICE: 0.6159\n",
      "Epoch 7/100\n",
      "749/750 [============================>.] - ETA: 0s - loss: 4.0572 - score_main_loss: 0.1997 - score_aux1_loss: 0.6355 - score_aux2_loss: 0.3852 - score_aux3_loss: 0.2356 - score_main_VOE: 0.3226 - score_main_DICE: 0.8003 - score_aux1_VOE: 0.7594 - score_aux1_DICE: 0.3645 - score_aux2_VOE: 0.5427 - score_aux2_DICE: 0.6148 - score_aux3_VOE: 0.3706 - score_aux3_DICE: 0.7644Epoch 1/100\n",
      " 90/750 [==>...........................] - ETA: 1:42 - loss: 6.0216 - score_main_loss: 0.3661 - score_aux1_loss: 0.6829 - score_aux2_loss: 0.4385 - score_aux3_loss: 0.3554 - score_main_VOE: 0.5073 - score_main_DICE: 0.6339 - score_aux1_VOE: 0.8025 - score_aux1_DICE: 0.3171 - score_aux2_VOE: 0.5955 - score_aux2_DICE: 0.5615 - score_aux3_VOE: 0.4982 - score_aux3_DICE: 0.6446\n",
      "Epoch 00007: val_score_main_loss did not improve from 0.27392\n",
      "\n",
      "Epoch 00007: saving model to /content/drive/My Drive/Luan Van 2019/Tumor/weights/weights_model14/last_model14.hdf5\n",
      "750/750 [==============================] - 284s 378ms/step - loss: 4.0579 - score_main_loss: 0.1997 - score_aux1_loss: 0.6357 - score_aux2_loss: 0.3853 - score_aux3_loss: 0.2355 - score_main_VOE: 0.3227 - score_main_DICE: 0.8003 - score_aux1_VOE: 0.7596 - score_aux1_DICE: 0.3643 - score_aux2_VOE: 0.5428 - score_aux2_DICE: 0.6147 - score_aux3_VOE: 0.3706 - score_aux3_DICE: 0.7645 - val_loss: 6.0216 - val_score_main_loss: 0.3661 - val_score_aux1_loss: 0.6829 - val_score_aux2_loss: 0.4385 - val_score_aux3_loss: 0.3554 - val_score_main_VOE: 0.5073 - val_score_main_DICE: 0.6339 - val_score_aux1_VOE: 0.8025 - val_score_aux1_DICE: 0.3171 - val_score_aux2_VOE: 0.5955 - val_score_aux2_DICE: 0.5615 - val_score_aux3_VOE: 0.4982 - val_score_aux3_DICE: 0.6446\n",
      "Epoch 8/100\n",
      "749/750 [============================>.] - ETA: 0s - loss: 4.0313 - score_main_loss: 0.1976 - score_aux1_loss: 0.6357 - score_aux2_loss: 0.3835 - score_aux3_loss: 0.2341 - score_main_VOE: 0.3200 - score_main_DICE: 0.8024 - score_aux1_VOE: 0.7593 - score_aux1_DICE: 0.3643 - score_aux2_VOE: 0.5400 - score_aux2_DICE: 0.6165 - score_aux3_VOE: 0.3679 - score_aux3_DICE: 0.7659Epoch 1/100\n",
      " 90/750 [==>...........................] - ETA: 1:45 - loss: 5.2954 - score_main_loss: 0.3054 - score_aux1_loss: 0.7170 - score_aux2_loss: 0.4103 - score_aux3_loss: 0.3009 - score_main_VOE: 0.4482 - score_main_DICE: 0.6946 - score_aux1_VOE: 0.8258 - score_aux1_DICE: 0.2830 - score_aux2_VOE: 0.5692 - score_aux2_DICE: 0.5897 - score_aux3_VOE: 0.4454 - score_aux3_DICE: 0.6991\n",
      "Epoch 00008: val_score_main_loss did not improve from 0.27392\n",
      "\n",
      "Epoch 00008: saving model to /content/drive/My Drive/Luan Van 2019/Tumor/weights/weights_model14/last_model14.hdf5\n",
      "750/750 [==============================] - 282s 376ms/step - loss: 4.0297 - score_main_loss: 0.1975 - score_aux1_loss: 0.6354 - score_aux2_loss: 0.3833 - score_aux3_loss: 0.2340 - score_main_VOE: 0.3199 - score_main_DICE: 0.8025 - score_aux1_VOE: 0.7590 - score_aux1_DICE: 0.3646 - score_aux2_VOE: 0.5398 - score_aux2_DICE: 0.6167 - score_aux3_VOE: 0.3678 - score_aux3_DICE: 0.7660 - val_loss: 5.2954 - val_score_main_loss: 0.3054 - val_score_aux1_loss: 0.7170 - val_score_aux2_loss: 0.4103 - val_score_aux3_loss: 0.3009 - val_score_main_VOE: 0.4482 - val_score_main_DICE: 0.6946 - val_score_aux1_VOE: 0.8258 - val_score_aux1_DICE: 0.2830 - val_score_aux2_VOE: 0.5692 - val_score_aux2_DICE: 0.5897 - val_score_aux3_VOE: 0.4454 - val_score_aux3_DICE: 0.6991\n",
      "Epoch 9/100\n",
      "749/750 [============================>.] - ETA: 0s - loss: 3.9874 - score_main_loss: 0.1954 - score_aux1_loss: 0.6315 - score_aux2_loss: 0.3806 - score_aux3_loss: 0.2300 - score_main_VOE: 0.3176 - score_main_DICE: 0.8046 - score_aux1_VOE: 0.7563 - score_aux1_DICE: 0.3685 - score_aux2_VOE: 0.5386 - score_aux2_DICE: 0.6194 - score_aux3_VOE: 0.3642 - score_aux3_DICE: 0.7700Epoch 1/100\n",
      " 90/750 [==>...........................] - ETA: 1:49 - loss: 5.2405 - score_main_loss: 0.3176 - score_aux1_loss: 0.6004 - score_aux2_loss: 0.3730 - score_aux3_loss: 0.3106 - score_main_VOE: 0.4550 - score_main_DICE: 0.6824 - score_aux1_VOE: 0.7335 - score_aux1_DICE: 0.3996 - score_aux2_VOE: 0.5282 - score_aux2_DICE: 0.6270 - score_aux3_VOE: 0.4495 - score_aux3_DICE: 0.6894\n",
      "Epoch 00009: val_score_main_loss did not improve from 0.27392\n",
      "\n",
      "Epoch 00009: saving model to /content/drive/My Drive/Luan Van 2019/Tumor/weights/weights_model14/last_model14.hdf5\n",
      "750/750 [==============================] - 283s 377ms/step - loss: 3.9864 - score_main_loss: 0.1953 - score_aux1_loss: 0.6315 - score_aux2_loss: 0.3805 - score_aux3_loss: 0.2300 - score_main_VOE: 0.3175 - score_main_DICE: 0.8047 - score_aux1_VOE: 0.7563 - score_aux1_DICE: 0.3685 - score_aux2_VOE: 0.5385 - score_aux2_DICE: 0.6195 - score_aux3_VOE: 0.3641 - score_aux3_DICE: 0.7700 - val_loss: 5.2405 - val_score_main_loss: 0.3176 - val_score_aux1_loss: 0.6004 - val_score_aux2_loss: 0.3730 - val_score_aux3_loss: 0.3106 - val_score_main_VOE: 0.4550 - val_score_main_DICE: 0.6824 - val_score_aux1_VOE: 0.7335 - val_score_aux1_DICE: 0.3996 - val_score_aux2_VOE: 0.5282 - val_score_aux2_DICE: 0.6270 - val_score_aux3_VOE: 0.4495 - val_score_aux3_DICE: 0.6894\n",
      "Epoch 10/100\n",
      "749/750 [============================>.] - ETA: 0s - loss: 3.9975 - score_main_loss: 0.1951 - score_aux1_loss: 0.6380 - score_aux2_loss: 0.3825 - score_aux3_loss: 0.2308 - score_main_VOE: 0.3171 - score_main_DICE: 0.8049 - score_aux1_VOE: 0.7620 - score_aux1_DICE: 0.3620 - score_aux2_VOE: 0.5405 - score_aux2_DICE: 0.6175 - score_aux3_VOE: 0.3652 - score_aux3_DICE: 0.7692Epoch 1/100\n",
      " 90/750 [==>...........................] - ETA: 1:43 - loss: 6.3931 - score_main_loss: 0.3926 - score_aux1_loss: 0.7096 - score_aux2_loss: 0.4471 - score_aux3_loss: 0.3844 - score_main_VOE: 0.5424 - score_main_DICE: 0.6074 - score_aux1_VOE: 0.8195 - score_aux1_DICE: 0.2904 - score_aux2_VOE: 0.6002 - score_aux2_DICE: 0.5529 - score_aux3_VOE: 0.5334 - score_aux3_DICE: 0.6156\n",
      "Epoch 00010: val_score_main_loss did not improve from 0.27392\n",
      "\n",
      "Epoch 00010: saving model to /content/drive/My Drive/Luan Van 2019/Tumor/weights/weights_model14/last_model14.hdf5\n",
      "750/750 [==============================] - 282s 376ms/step - loss: 3.9983 - score_main_loss: 0.1951 - score_aux1_loss: 0.6383 - score_aux2_loss: 0.3825 - score_aux3_loss: 0.2308 - score_main_VOE: 0.3172 - score_main_DICE: 0.8049 - score_aux1_VOE: 0.7622 - score_aux1_DICE: 0.3617 - score_aux2_VOE: 0.5405 - score_aux2_DICE: 0.6175 - score_aux3_VOE: 0.3652 - score_aux3_DICE: 0.7692 - val_loss: 6.3931 - val_score_main_loss: 0.3926 - val_score_aux1_loss: 0.7096 - val_score_aux2_loss: 0.4471 - val_score_aux3_loss: 0.3844 - val_score_main_VOE: 0.5424 - val_score_main_DICE: 0.6074 - val_score_aux1_VOE: 0.8195 - val_score_aux1_DICE: 0.2904 - val_score_aux2_VOE: 0.6002 - val_score_aux2_DICE: 0.5529 - val_score_aux3_VOE: 0.5334 - val_score_aux3_DICE: 0.6156\n",
      "Epoch 11/100\n",
      "749/750 [============================>.] - ETA: 0s - loss: 3.9855 - score_main_loss: 0.1941 - score_aux1_loss: 0.6332 - score_aux2_loss: 0.3826 - score_aux3_loss: 0.2308 - score_main_VOE: 0.3157 - score_main_DICE: 0.8059 - score_aux1_VOE: 0.7579 - score_aux1_DICE: 0.3668 - score_aux2_VOE: 0.5397 - score_aux2_DICE: 0.6174 - score_aux3_VOE: 0.3645 - score_aux3_DICE: 0.7692Epoch 1/100\n",
      " 90/750 [==>...........................] - ETA: 1:46 - loss: 5.9913 - score_main_loss: 0.3692 - score_aux1_loss: 0.6457 - score_aux2_loss: 0.4202 - score_aux3_loss: 0.3602 - score_main_VOE: 0.5137 - score_main_DICE: 0.6308 - score_aux1_VOE: 0.7724 - score_aux1_DICE: 0.3543 - score_aux2_VOE: 0.5746 - score_aux2_DICE: 0.5798 - score_aux3_VOE: 0.5037 - score_aux3_DICE: 0.6398\n",
      "Epoch 00011: val_score_main_loss did not improve from 0.27392\n",
      "\n",
      "Epoch 00011: saving model to /content/drive/My Drive/Luan Van 2019/Tumor/weights/weights_model14/last_model14.hdf5\n",
      "750/750 [==============================] - 283s 377ms/step - loss: 3.9856 - score_main_loss: 0.1941 - score_aux1_loss: 0.6334 - score_aux2_loss: 0.3828 - score_aux3_loss: 0.2308 - score_main_VOE: 0.3156 - score_main_DICE: 0.8059 - score_aux1_VOE: 0.7581 - score_aux1_DICE: 0.3666 - score_aux2_VOE: 0.5399 - score_aux2_DICE: 0.6172 - score_aux3_VOE: 0.3644 - score_aux3_DICE: 0.7692 - val_loss: 5.9913 - val_score_main_loss: 0.3692 - val_score_aux1_loss: 0.6457 - val_score_aux2_loss: 0.4202 - val_score_aux3_loss: 0.3602 - val_score_main_VOE: 0.5137 - val_score_main_DICE: 0.6308 - val_score_aux1_VOE: 0.7724 - val_score_aux1_DICE: 0.3543 - val_score_aux2_VOE: 0.5746 - val_score_aux2_DICE: 0.5798 - val_score_aux3_VOE: 0.5037 - val_score_aux3_DICE: 0.6398\n",
      "Epoch 12/100\n",
      "749/750 [============================>.] - ETA: 0s - loss: 3.9783 - score_main_loss: 0.1945 - score_aux1_loss: 0.6336 - score_aux2_loss: 0.3779 - score_aux3_loss: 0.2306 - score_main_VOE: 0.3157 - score_main_DICE: 0.8055 - score_aux1_VOE: 0.7584 - score_aux1_DICE: 0.3664 - score_aux2_VOE: 0.5351 - score_aux2_DICE: 0.6221 - score_aux3_VOE: 0.3639 - score_aux3_DICE: 0.7694Epoch 1/100\n",
      " 90/750 [==>...........................] - ETA: 1:47 - loss: 5.3575 - score_main_loss: 0.3121 - score_aux1_loss: 0.7050 - score_aux2_loss: 0.4090 - score_aux3_loss: 0.3067 - score_main_VOE: 0.4581 - score_main_DICE: 0.6879 - score_aux1_VOE: 0.8177 - score_aux1_DICE: 0.2950 - score_aux2_VOE: 0.5675 - score_aux2_DICE: 0.5910 - score_aux3_VOE: 0.4533 - score_aux3_DICE: 0.6933\n",
      "Epoch 00012: val_score_main_loss did not improve from 0.27392\n",
      "\n",
      "Epoch 00012: saving model to /content/drive/My Drive/Luan Van 2019/Tumor/weights/weights_model14/last_model14.hdf5\n",
      "750/750 [==============================] - 283s 378ms/step - loss: 3.9765 - score_main_loss: 0.1943 - score_aux1_loss: 0.6336 - score_aux2_loss: 0.3778 - score_aux3_loss: 0.2305 - score_main_VOE: 0.3155 - score_main_DICE: 0.8057 - score_aux1_VOE: 0.7585 - score_aux1_DICE: 0.3664 - score_aux2_VOE: 0.5350 - score_aux2_DICE: 0.6222 - score_aux3_VOE: 0.3637 - score_aux3_DICE: 0.7695 - val_loss: 5.3575 - val_score_main_loss: 0.3121 - val_score_aux1_loss: 0.7050 - val_score_aux2_loss: 0.4090 - val_score_aux3_loss: 0.3067 - val_score_main_VOE: 0.4581 - val_score_main_DICE: 0.6879 - val_score_aux1_VOE: 0.8177 - val_score_aux1_DICE: 0.2950 - val_score_aux2_VOE: 0.5675 - val_score_aux2_DICE: 0.5910 - val_score_aux3_VOE: 0.4533 - val_score_aux3_DICE: 0.6933\n",
      "Epoch 13/100\n",
      "749/750 [============================>.] - ETA: 0s - loss: 3.9174 - score_main_loss: 0.1899 - score_aux1_loss: 0.6308 - score_aux2_loss: 0.3771 - score_aux3_loss: 0.2257 - score_main_VOE: 0.3102 - score_main_DICE: 0.8101 - score_aux1_VOE: 0.7564 - score_aux1_DICE: 0.3692 - score_aux2_VOE: 0.5349 - score_aux2_DICE: 0.6229 - score_aux3_VOE: 0.3589 - score_aux3_DICE: 0.7743Epoch 1/100\n",
      " 90/750 [==>...........................] - ETA: 1:47 - loss: 5.8655 - score_main_loss: 0.3510 - score_aux1_loss: 0.6960 - score_aux2_loss: 0.4296 - score_aux3_loss: 0.3479 - score_main_VOE: 0.4958 - score_main_DICE: 0.6490 - score_aux1_VOE: 0.8093 - score_aux1_DICE: 0.3040 - score_aux2_VOE: 0.5847 - score_aux2_DICE: 0.5704 - score_aux3_VOE: 0.4939 - score_aux3_DICE: 0.6521\n",
      "Epoch 00013: val_score_main_loss did not improve from 0.27392\n",
      "\n",
      "Epoch 00013: saving model to /content/drive/My Drive/Luan Van 2019/Tumor/weights/weights_model14/last_model14.hdf5\n",
      "750/750 [==============================] - 288s 384ms/step - loss: 3.9167 - score_main_loss: 0.1898 - score_aux1_loss: 0.6310 - score_aux2_loss: 0.3770 - score_aux3_loss: 0.2256 - score_main_VOE: 0.3102 - score_main_DICE: 0.8102 - score_aux1_VOE: 0.7566 - score_aux1_DICE: 0.3690 - score_aux2_VOE: 0.5348 - score_aux2_DICE: 0.6230 - score_aux3_VOE: 0.3588 - score_aux3_DICE: 0.7744 - val_loss: 5.8655 - val_score_main_loss: 0.3510 - val_score_aux1_loss: 0.6960 - val_score_aux2_loss: 0.4296 - val_score_aux3_loss: 0.3479 - val_score_main_VOE: 0.4958 - val_score_main_DICE: 0.6490 - val_score_aux1_VOE: 0.8093 - val_score_aux1_DICE: 0.3040 - val_score_aux2_VOE: 0.5847 - val_score_aux2_DICE: 0.5704 - val_score_aux3_VOE: 0.4939 - val_score_aux3_DICE: 0.6521\n",
      "Epoch 14/100\n",
      "749/750 [============================>.] - ETA: 0s - loss: 3.9072 - score_main_loss: 0.1894 - score_aux1_loss: 0.6286 - score_aux2_loss: 0.3763 - score_aux3_loss: 0.2250 - score_main_VOE: 0.3093 - score_main_DICE: 0.8106 - score_aux1_VOE: 0.7535 - score_aux1_DICE: 0.3714 - score_aux2_VOE: 0.5336 - score_aux2_DICE: 0.6237 - score_aux3_VOE: 0.3572 - score_aux3_DICE: 0.7750Epoch 1/100\n",
      " 90/750 [==>...........................] - ETA: 1:48 - loss: 7.0029 - score_main_loss: 0.4410 - score_aux1_loss: 0.6744 - score_aux2_loss: 0.4896 - score_aux3_loss: 0.4278 - score_main_VOE: 0.5815 - score_main_DICE: 0.5590 - score_aux1_VOE: 0.7920 - score_aux1_DICE: 0.3256 - score_aux2_VOE: 0.6390 - score_aux2_DICE: 0.5104 - score_aux3_VOE: 0.5692 - score_aux3_DICE: 0.5722\n",
      "Epoch 00014: val_score_main_loss did not improve from 0.27392\n",
      "\n",
      "Epoch 00014: saving model to /content/drive/My Drive/Luan Van 2019/Tumor/weights/weights_model14/last_model14.hdf5\n",
      "750/750 [==============================] - 284s 379ms/step - loss: 3.9091 - score_main_loss: 0.1895 - score_aux1_loss: 0.6288 - score_aux2_loss: 0.3765 - score_aux3_loss: 0.2252 - score_main_VOE: 0.3094 - score_main_DICE: 0.8105 - score_aux1_VOE: 0.7537 - score_aux1_DICE: 0.3712 - score_aux2_VOE: 0.5338 - score_aux2_DICE: 0.6235 - score_aux3_VOE: 0.3574 - score_aux3_DICE: 0.7748 - val_loss: 7.0029 - val_score_main_loss: 0.4410 - val_score_aux1_loss: 0.6744 - val_score_aux2_loss: 0.4896 - val_score_aux3_loss: 0.4278 - val_score_main_VOE: 0.5815 - val_score_main_DICE: 0.5590 - val_score_aux1_VOE: 0.7920 - val_score_aux1_DICE: 0.3256 - val_score_aux2_VOE: 0.6390 - val_score_aux2_DICE: 0.5104 - val_score_aux3_VOE: 0.5692 - val_score_aux3_DICE: 0.5722\n",
      "Epoch 00014: early stopping\n"
     ]
    },
    {
     "data": {
      "text/plain": [
       "<tensorflow.python.keras.callbacks.History at 0x7fc90c1ef4e0>"
      ]
     },
     "execution_count": 11,
     "metadata": {
      "tags": []
     },
     "output_type": "execute_result"
    }
   ],
   "source": [
    "model.fit_generator(generator=training_generator,\n",
    "                        steps_per_epoch=steps_per_epoch,\n",
    "                        epochs=n_epochs,\n",
    "                        validation_data=validation_generator,\n",
    "                        validation_steps=validation_steps,\n",
    "                        callbacks=call_backs)"
   ]
  },
  {
   "cell_type": "markdown",
   "metadata": {
    "colab_type": "text",
    "id": "INU6G5wMrxhe"
   },
   "source": [
    "# 4. Drawing chart"
   ]
  },
  {
   "cell_type": "code",
   "execution_count": 8,
   "metadata": {
    "colab": {
     "base_uri": "https://localhost:8080/",
     "height": 88
    },
    "colab_type": "code",
    "executionInfo": {
     "elapsed": 1246,
     "status": "ok",
     "timestamp": 1577210228321,
     "user": {
      "displayName": "Anh Kiệt Trần",
      "photoUrl": "https://lh3.googleusercontent.com/a-/AAuE7mCm0idJmmBWlkXkquBiguFhQJbmieiKr6CylgTi=s64",
      "userId": "03604867749886055948"
     },
     "user_tz": -420
    },
    "id": "36wzW08rsI3F",
    "outputId": "bdea5df2-f634-4584-b2f1-01ba735de85f"
   },
   "outputs": [
    {
     "name": "stdout",
     "output_type": "stream",
     "text": [
      "['loss', '8.225559495608012', '7.642939207712809', '6.96855551815033', '6.777826100190481', '6.243636131604513', '5.989897627035777', '5.564770492871602', '5.497973432223002', '5.380069477717082', '5.101675776004791', '5.183015250682831', '5.127977187474569', '4.897152982870738', '4.919878529389699', '4.676334974288941', '4.651393795967102', '4.486052726268769', '4.346892293771108', '4.220647819677989', '4.194299599488576', '4.216445701917013', '4.130873724937439', '4.08550047492981', '4.049492556889852', '4.163534436225891', '4.285212034702301', '4.252987904548645', '4.153205324172974', '4.124651806195577', '4.102453048706055', '4.07687018473943', '4.057927319526672', '4.029683551629384', '3.986362511952718', '3.998282553990682', '3.9855753208796183', '3.976503726005554', '3.9167486271858216', '3.9091379636128742']\n",
      "40\n",
      "40\n"
     ]
    }
   ],
   "source": [
    "listLoss=[]\n",
    "listScoreVOE=[]\n",
    "list_val_croreVOE=[]\n",
    "list_val_loss=[]\n",
    "listDice=[]\n",
    "list_valid_Dice=[]\n",
    "import csv\n",
    "\n",
    "# load log1\n",
    "with open('/content/drive/My Drive/Luan Van 2019/Tumor/log/log_model14.csv', 'r') as csvFile:\n",
    "    reader = csv.reader(csvFile)\n",
    "    for row in reader:\n",
    "        listLoss.append(row[1])\n",
    "        listScoreVOE.append(row[13])\n",
    "        list_val_croreVOE.append(row[26])\n",
    "        list_val_loss.append(row[15])\n",
    "        listDice.append(row[12])\n",
    "        list_valid_Dice.append(row[25])\n",
    "csvFile.close()\n",
    "        \n",
    "csvFile.close()\n",
    "print(listLoss)\n",
    "print(len(listScoreVOE))\n",
    "print(len(list_val_croreVOE))\n",
    "\n",
    "epoch=[x for x in range(len(listLoss)-1)]"
   ]
  },
  {
   "cell_type": "code",
   "execution_count": 0,
   "metadata": {
    "colab": {},
    "colab_type": "code",
    "id": "5XeeTU7QvMwW"
   },
   "outputs": [],
   "source": [
    "listLoss=[ float(x)/15.0 for x in listLoss[1:]]\n",
    "list_val_loss=[float(x)/15.0 for x in list_val_loss[1:]]\n",
    "listScoreVOE=[float(x) for x in listScoreVOE[1:]]\n",
    "list_val_croreVOE=[float(x) for x in list_val_croreVOE[1:]]\n",
    "listDice=[float(x) for x in listDice[1:]]\n",
    "list_valid_Dice=[float(x) for x in list_valid_Dice[1:]]"
   ]
  },
  {
   "cell_type": "code",
   "execution_count": 0,
   "metadata": {
    "colab": {},
    "colab_type": "code",
    "id": "alAiZbl8sq8h"
   },
   "outputs": [],
   "source": [
    "from matplotlib import pyplot as plt"
   ]
  },
  {
   "cell_type": "code",
   "execution_count": 26,
   "metadata": {
    "colab": {
     "base_uri": "https://localhost:8080/",
     "height": 392
    },
    "colab_type": "code",
    "executionInfo": {
     "elapsed": 1115,
     "status": "ok",
     "timestamp": 1577211487940,
     "user": {
      "displayName": "Anh Kiệt Trần",
      "photoUrl": "https://lh3.googleusercontent.com/a-/AAuE7mCm0idJmmBWlkXkquBiguFhQJbmieiKr6CylgTi=s64",
      "userId": "03604867749886055948"
     },
     "user_tz": -420
    },
    "id": "UJZOCG39sBpV",
    "outputId": "3f34acbf-2fba-47f5-b7cb-857ae2c39fc4"
   },
   "outputs": [
    {
     "data": {
      "image/png": "[encoded data removed]",
      "text/plain": [
       "<Figure size 576x432 with 1 Axes>"
      ]
     },
     "metadata": {
      "tags": []
     },
     "output_type": "display_data"
    }
   ],
   "source": [
    "plt.figure(figsize=(8,6))\n",
    "plt.plot(epoch,listLoss,'r',label=\"Loss\")\n",
    "plt.plot(epoch,list_val_loss,'r--',label=\"Loss\")\n",
    "#plt.plot(epoch,listDice,'b',label=\"Score\")\n",
    "#plt.plot(epoch,list_valid_Dice,'b--',label=\"Score\")\n",
    "plt.ylabel('value')\n",
    "plt.xlabel('epoch')\n",
    "plt.legend(['loss_train','loss_validation'], loc='upper right')\n",
    "plt.ylim(0,1)\n",
    "plt.savefig(\"/content/drive/My Drive/Luan Van 2019/Tumor/Report/Model_CNN14_loss.png\")\n",
    "plt.show()\n",
    "plt.close()"
   ]
  },
  {
   "cell_type": "code",
   "execution_count": 25,
   "metadata": {
    "colab": {
     "base_uri": "https://localhost:8080/",
     "height": 392
    },
    "colab_type": "code",
    "executionInfo": {
     "elapsed": 1059,
     "status": "ok",
     "timestamp": 1577211419392,
     "user": {
      "displayName": "Anh Kiệt Trần",
      "photoUrl": "https://lh3.googleusercontent.com/a-/AAuE7mCm0idJmmBWlkXkquBiguFhQJbmieiKr6CylgTi=s64",
      "userId": "03604867749886055948"
     },
     "user_tz": -420
    },
    "id": "sHcA8OFKssl3",
    "outputId": "282a7810-5b43-4fd8-80bf-e4494788f03d"
   },
   "outputs": [
    {
     "data": {
      "image/png": "[encoded data removed]",
      "text/plain": [
       "<Figure size 576x432 with 1 Axes>"
      ]
     },
     "metadata": {
      "tags": []
     },
     "output_type": "display_data"
    }
   ],
   "source": [
    "plt.figure(figsize=(8,6))\n",
    "#plt.plot(epoch,listLoss,'r',label=\"Loss\")\n",
    "#plt.plot(epoch,list_val_loss,'r--',label=\"Loss\")\n",
    "plt.plot(epoch,listDice,'b',label=\"Score\")\n",
    "plt.plot(epoch,list_valid_Dice,'b--',label=\"Score\")\n",
    "plt.ylabel('value')\n",
    "plt.xlabel('epoch')\n",
    "plt.legend(['Dice_train','Dice_validation'], loc='upper right')\n",
    "plt.ylim(0,1)\n",
    "plt.savefig(\"/content/drive/My Drive/Luan Van 2019/Tumor/Report/Model_CNN14_Dice.png\")\n",
    "plt.show()\n",
    "plt.close()"
   ]
  },
  {
   "cell_type": "code",
   "execution_count": 0,
   "metadata": {
    "colab": {},
    "colab_type": "code",
    "id": "pWvSJAI_DTGX"
   },
   "outputs": [],
   "source": []
  }
 ],
 "metadata": {
  "accelerator": "GPU",
  "colab": {
   "collapsed_sections": [],
   "name": "CNN training_model14.ipynb",
   "provenance": []
  },
  "kernelspec": {
   "display_name": "Python 3",
   "language": "python",
   "name": "python3"
  },
  "language_info": {
   "codemirror_mode": {
    "name": "ipython",
    "version": 3
   },
   "file_extension": ".py",
   "mimetype": "text/x-python",
   "name": "python",
   "nbconvert_exporter": "python",
   "pygments_lexer": "ipython3",
   "version": "3.7.0"
  }
 },
 "nbformat": 4,
 "nbformat_minor": 1
}
